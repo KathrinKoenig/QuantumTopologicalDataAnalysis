{
 "cells": [
  {
   "cell_type": "markdown",
   "id": "e450c81b",
   "metadata": {},
   "source": [
    "## Initialisation of different libraries"
   ]
  },
  {
   "cell_type": "code",
   "execution_count": 27,
   "id": "1d0da9b0",
   "metadata": {},
   "outputs": [],
   "source": [
    "#initialization\n",
    "import itertools as it\n",
    "from scipy.sparse import csr_matrix\n",
    "import scipy\n",
    "import matplotlib.pyplot as plt\n",
    "import numpy as np\n",
    "pi = np.pi\n",
    "import math\n",
    "\n",
    "# import qtda module\n",
    "import qtda_modules.qtda_module as qtda\n",
    "\n",
    "# importing Qiskit\n",
    "from qiskit import IBMQ, Aer, transpile, assemble\n",
    "from qiskit import QuantumCircuit, ClassicalRegister, QuantumRegister, execute\n",
    "import qiskit.extensions\n",
    "# import basic plot tools\n",
    "from qiskit.visualization import plot_histogram"
   ]
  },
  {
   "cell_type": "markdown",
   "id": "9b11f17f",
   "metadata": {},
   "source": [
    "## Define combinatorial laplacian"
   ]
  },
  {
   "cell_type": "code",
   "execution_count": 28,
   "id": "7f679f47",
   "metadata": {},
   "outputs": [],
   "source": [
    "n_vertices = 3\n",
    "S0 = [(0,0,1),(0,1,0), (1,0,0)]\n",
    "S_test = [(0,1,0,0),(0,0,1,1)]\n",
    "S1 = [(0,1,1),(1,1,0),(1,0,1)]\n",
    "S2 = []\n",
    "#S2 = [(1,1,1)]\n",
    "S3 = []\n",
    "\n",
    "state_dict = {0: S0, 1: S1, 2: S2, 3: S3}"
   ]
  },
  {
   "cell_type": "code",
   "execution_count": 29,
   "id": "2d467d52",
   "metadata": {},
   "outputs": [],
   "source": [
    "# k = 1\n",
    "def combinatorial_laplacian(n_vertices, k, state_dict):\n",
    "    return qtda.projected_combinatorial_laplacian(n_vertices, k, state_dict).toarray()\n",
    "\n",
    "# combinatorial_laplacian = qtda.projected_combinatorial_laplacian(n_vertices, k, state_dict).toarray()"
   ]
  },
  {
   "cell_type": "markdown",
   "id": "000857db",
   "metadata": {},
   "source": [
    "### Example for a combinatorial Laplacian"
   ]
  },
  {
   "cell_type": "code",
   "execution_count": 30,
   "id": "aaf6df90",
   "metadata": {},
   "outputs": [
    {
     "data": {
      "image/png": "[encoded data removed]",
      "text/latex": [
       "$\\displaystyle \\left[\\begin{matrix}0.0 & 0.0 & 0.0 & 0.0 & 0.0 & 0.0 & 0.0 & 0.0\\\\0.0 & 0.0 & 0.0 & 0.0 & 0.0 & 0.0 & 0.0 & 0.0\\\\0.0 & 0.0 & 0.0 & 0.0 & 0.0 & 0.0 & 0.0 & 0.0\\\\0.0 & 0.0 & 0.0 & 0.0 & 0.0 & 0.0 & 0.0 & 0.0\\\\0.0 & 0.0 & 0.0 & 0.0 & 0.0 & 0.0 & 0.0 & 0.0\\\\0.0 & 0.0 & 0.0 & 0.0 & 0.0 & 0.0 & 0.0 & 0.0\\\\0.0 & 0.0 & 0.0 & 0.0 & 0.0 & 0.0 & 0.0 & 0.0\\\\0.0 & 0.0 & 0.0 & 0.0 & 0.0 & 0.0 & 0.0 & 0.0\\end{matrix}\\right]$"
      ],
      "text/plain": [
       "⎡0.0  0.0  0.0  0.0  0.0  0.0  0.0  0.0⎤\n",
       "⎢                                      ⎥\n",
       "⎢0.0  0.0  0.0  0.0  0.0  0.0  0.0  0.0⎥\n",
       "⎢                                      ⎥\n",
       "⎢0.0  0.0  0.0  0.0  0.0  0.0  0.0  0.0⎥\n",
       "⎢                                      ⎥\n",
       "⎢0.0  0.0  0.0  0.0  0.0  0.0  0.0  0.0⎥\n",
       "⎢                                      ⎥\n",
       "⎢0.0  0.0  0.0  0.0  0.0  0.0  0.0  0.0⎥\n",
       "⎢                                      ⎥\n",
       "⎢0.0  0.0  0.0  0.0  0.0  0.0  0.0  0.0⎥\n",
       "⎢                                      ⎥\n",
       "⎢0.0  0.0  0.0  0.0  0.0  0.0  0.0  0.0⎥\n",
       "⎢                                      ⎥\n",
       "⎣0.0  0.0  0.0  0.0  0.0  0.0  0.0  0.0⎦"
      ]
     },
     "metadata": {},
     "output_type": "display_data"
    }
   ],
   "source": [
    "from sympy import Matrix, init_printing\n",
    "init_printing()\n",
    "\n",
    "display(Matrix(combinatorial_laplacian(3, 2, state_dict)))"
   ]
  },
  {
   "cell_type": "markdown",
   "id": "5774ddb4",
   "metadata": {},
   "source": [
    "## QPE is defined"
   ]
  },
  {
   "cell_type": "code",
   "execution_count": 31,
   "id": "c9d5ef44",
   "metadata": {},
   "outputs": [],
   "source": [
    "import qiskit.extensions\n",
    "\n",
    "# combinatorial_laplacian = np.pi/2*np.diag((1,1,1,1,1,1,1,1))\n",
    "\n",
    "#unit = scipy.linalg.expm(1j*combinatorial_laplacian)\n",
    "#gate = qiskit.extensions.UnitaryGate(unit)"
   ]
  },
  {
   "cell_type": "code",
   "execution_count": 32,
   "id": "93b3ade1",
   "metadata": {},
   "outputs": [],
   "source": [
    "def init(qc, num_qubits):\n",
    "    for qubit in range(num_qubits):\n",
    "        qc.h(qubit)\n",
    "    return qc\n",
    "#qpe = init(num_qubits,5, 6)\n",
    "#qpe.draw()"
   ]
  },
  {
   "cell_type": "code",
   "execution_count": 33,
   "id": "c51897ed",
   "metadata": {},
   "outputs": [],
   "source": [
    "def controledU(qc, rep, num_qubits, n_vertices, k, state_dict):\n",
    "    repetitions = rep\n",
    "    unit = scipy.linalg.expm(1j*combinatorial_laplacian(n_vertices, k, state_dict))\n",
    "    gate = qiskit.extensions.UnitaryGate(unit)\n",
    "    for counting_qubit in range(num_qubits):\n",
    "        for i in range(repetitions):\n",
    "            qc.append(gate.control(1), [counting_qubit] + list(range(num_qubits,num_qubits+n_vertices)))\n",
    "        repetitions *= 2\n",
    "    return qc\n",
    "#controledU(1, num_qubits)\n",
    "#qpe.draw()"
   ]
  },
  {
   "cell_type": "code",
   "execution_count": 34,
   "id": "587e8c95",
   "metadata": {},
   "outputs": [],
   "source": [
    "def qft_dagger(qc, n):\n",
    "    \"\"\"n-qubit QFTdagger the first n qubits in circ\"\"\"\n",
    "    # Don't forget the Swaps!\n",
    "    for qubit in range(n//2):\n",
    "        qc.swap(qubit, n-qubit-1)\n",
    "    for j in range(n):\n",
    "        for m in range(j):\n",
    "            qc.cp(-math.pi/float(2**(j-m)), m, j)\n",
    "        qc.h(j)"
   ]
  },
  {
   "cell_type": "code",
   "execution_count": 35,
   "id": "892bba26",
   "metadata": {},
   "outputs": [],
   "source": [
    "def qpe_total(num_qubits, n_vertices, k, state_dict):\n",
    "    qc = QuantumCircuit(num_qubits + n_vertices)\n",
    "    for qubit in range(num_qubits):\n",
    "        qc.h(qubit)\n",
    "    controledU(qc, 1, num_qubits, n_vertices, k, state_dict)\n",
    "    # Apply inverse QFT\n",
    "    qft_dagger(qc, num_qubits)\n",
    "    return qc"
   ]
  },
  {
   "cell_type": "markdown",
   "id": "8de41055",
   "metadata": {},
   "source": [
    "## Loop over the different ks"
   ]
  },
  {
   "cell_type": "code",
   "execution_count": 36,
   "id": "6dfba7a3",
   "metadata": {},
   "outputs": [
    {
     "data": {
      "text/plain": [
       "<qiskit.circuit.quantumcircuit.QuantumCircuit at 0x7ff1489965d0>"
      ]
     },
     "execution_count": 36,
     "metadata": {},
     "output_type": "execute_result"
    }
   ],
   "source": [
    "num_qubits = 4\n",
    "k = 1\n",
    "\n",
    "qpe_total(num_qubits, n_vertices, k, state_dict)"
   ]
  },
  {
   "cell_type": "markdown",
   "id": "f1f00f2e",
   "metadata": {},
   "source": [
    "## Initialize input state"
   ]
  },
  {
   "cell_type": "code",
   "execution_count": 12,
   "id": "8aabcbb6",
   "metadata": {},
   "outputs": [
    {
     "data": {
      "image/png": "[encoded data removed]",
      "text/plain": [
       "<Figure size 1123.93x686.28 with 1 Axes>"
      ]
     },
     "execution_count": 12,
     "metadata": {},
     "output_type": "execute_result"
    }
   ],
   "source": [
    "qc = qtda.initialize_projector(\n",
    "    state_dict[1],\n",
    "    circuit=qpe,\n",
    "    initialization_qubits=list(range(num_qubits,num_qubits+n_vertices)),\n",
    "    circuit_name='        QPE        '\n",
    "    )\n",
    "qc.add_register(ClassicalRegister(num_qubits, name=\"phase\"))\n",
    "for k in range(num_qubits):\n",
    "    qc.measure(k,k)\n",
    "qc.draw('mpl')"
   ]
  },
  {
   "cell_type": "code",
   "execution_count": 73,
   "id": "f783283d",
   "metadata": {},
   "outputs": [
    {
     "data": {
      "image/png": "[encoded data removed]",
      "text/plain": [
       "<Figure size 504x360 with 1 Axes>"
      ]
     },
     "execution_count": 73,
     "metadata": {},
     "output_type": "execute_result"
    }
   ],
   "source": [
    "backend = Aer.get_backend('qasm_simulator')\n",
    "job = execute(qc, backend, shots=500)\n",
    "data = job.result().get_counts(qc)\n",
    "plot_histogram(data)"
   ]
  },
  {
   "cell_type": "code",
   "execution_count": 50,
   "id": "fd6fe012",
   "metadata": {},
   "outputs": [
    {
     "name": "stdout",
     "output_type": "stream",
     "text": [
      "The number of 1-holes is:  0.006\n"
     ]
    }
   ],
   "source": [
    "print('The number of 1-holes is: ', 3*data['0000']/500)"
   ]
  },
  {
   "cell_type": "code",
   "execution_count": null,
   "id": "8ace68d0",
   "metadata": {},
   "outputs": [],
   "source": []
  },
  {
   "cell_type": "code",
   "execution_count": 37,
   "id": "ae765d93",
   "metadata": {},
   "outputs": [],
   "source": [
    "def full_topological_analysis(num_qubits, n_vertices, state_dict, shots):\n",
    "    \n",
    "    for k in range(n_vertices):\n",
    "        if (len(state_dict[k])==0):\n",
    "            print(\"calculation terminated because no simplex of size ...\")\n",
    "            break\n",
    "        qpe = qpe_total(num_qubits, n_vertices, k, state_dict)\n",
    "\n",
    "        qc = qtda.initialize_projector(\n",
    "            state_dict[k],\n",
    "            circuit=qpe,\n",
    "            initialization_qubits=list(range(num_qubits,num_qubits+n_vertices)),\n",
    "            circuit_name='        QPE        '\n",
    "            )\n",
    "        qc.add_register(ClassicalRegister(num_qubits, name=\"phase\"))\n",
    "        for j in range(num_qubits-1):\n",
    "            qc.measure(j,j)\n",
    "        #qc.draw('mpl')\n",
    "        backend = Aer.get_backend('qasm_simulator')\n",
    "        job = execute(qc, backend, shots=shots)\n",
    "        data = job.result().get_counts(qc)\n",
    "        print(\"Loop k = %s. The dictionary of the data is:\" %(k))\n",
    "        print(data)\n",
    "        print(\"Loop k = %s. The histogram is:\" %(k))\n",
    "        #plot_histogram(data)\n",
    "        plt.bar(list(data.keys()), data.values(), color='g')\n",
    "        plt.show()\n",
    "        value = data.get(\"0000\")\n",
    "        if(value==None):\n",
    "            value=0\n",
    "        print(\"Number of shots: \"+str(shots))\n",
    "        print(\"state dict: \"+str(state_dict))\n",
    "        print(\"Total count of holes: %s \" % (value*len(state_dict[k])/shots))"
   ]
  },
  {
   "cell_type": "code",
   "execution_count": 167,
   "id": "ba405aba",
   "metadata": {},
   "outputs": [],
   "source": [
    "def example1():\n",
    "    n_vertices = 3\n",
    "    num_qubits = 4\n",
    "    shots = 500\n",
    "\n",
    "    S0 = [(0,0,1),(0,1,0), (1,0,0)]\n",
    "    S_test = [(0,1,0,0),(0,0,1,1)]\n",
    "    S1 = [(0,1,1),(1,1,0),(1,0,1)]\n",
    "    S2 = []\n",
    "    S2 = [(1,1,1)]\n",
    "    S3 = []\n",
    "\n",
    "    state_dict = {0: S0, 1: S1, 2: S2, 3: S3}\n",
    "\n",
    "    qpe = QuantumCircuit(num_qubits + n_vertices)\n",
    "\n",
    "    full_topological_analysis(qpe, num_qubits, n_vertices, state_dict, shots)"
   ]
  },
  {
   "cell_type": "code",
   "execution_count": 26,
   "id": "fa41c88b",
   "metadata": {},
   "outputs": [
    {
     "name": "stdout",
     "output_type": "stream",
     "text": [
      "Loop k = 0. The dictionary of the data is:\n",
      "{'0000': 500}\n",
      "Loop k = 0. The histogram is:\n"
     ]
    },
    {
     "data": {
      "image/png": "[encoded data removed]",
      "text/plain": [
       "<Figure size 432x288 with 1 Axes>"
      ]
     },
     "metadata": {
      "needs_background": "light"
     },
     "output_type": "display_data"
    },
    {
     "name": "stdout",
     "output_type": "stream",
     "text": [
      "Number of shots: 500\n",
      "state dict: {0: [(0, 0, 1), (0, 1, 0), (1, 0, 0)], 1: [(0, 1, 1), (1, 1, 0), (1, 0, 1)], 2: [(1, 1, 1)], 3: []}\n",
      "Total count of holes: 3.0 \n",
      "Loop k = 1. The dictionary of the data is:\n",
      "{'0101': 48, '0001': 58, '0110': 72, '0100': 64, '0011': 55, '0111': 65, '0010': 63, '0000': 75}\n",
      "Loop k = 1. The histogram is:\n"
     ]
    },
    {
     "data": {
      "image/png": "[encoded data removed]",
      "text/plain": [
       "<Figure size 432x288 with 1 Axes>"
      ]
     },
     "metadata": {
      "needs_background": "light"
     },
     "output_type": "display_data"
    },
    {
     "name": "stdout",
     "output_type": "stream",
     "text": [
      "Number of shots: 500\n",
      "state dict: {0: [(0, 0, 1), (0, 1, 0), (1, 0, 0)], 1: [(0, 1, 1), (1, 1, 0), (1, 0, 1)], 2: [(1, 1, 1)], 3: []}\n",
      "Total count of holes: 0.45 \n",
      "Loop k = 2. The dictionary of the data is:\n",
      "{'0000': 500}\n",
      "Loop k = 2. The histogram is:\n"
     ]
    },
    {
     "data": {
      "image/png": "[encoded data removed]",
      "text/plain": [
       "<Figure size 432x288 with 1 Axes>"
      ]
     },
     "metadata": {
      "needs_background": "light"
     },
     "output_type": "display_data"
    },
    {
     "name": "stdout",
     "output_type": "stream",
     "text": [
      "Number of shots: 500\n",
      "state dict: {0: [(0, 0, 1), (0, 1, 0), (1, 0, 0)], 1: [(0, 1, 1), (1, 1, 0), (1, 0, 1)], 2: [(1, 1, 1)], 3: []}\n",
      "Total count of holes: 1.0 \n"
     ]
    }
   ],
   "source": [
    "n_vertices = 3\n",
    "num_qubits = 4\n",
    "shots = 500\n",
    "\n",
    "S0 = [(0,0,1),(0,1,0), (1,0,0)]\n",
    "S_test = [(0,1,0,0),(0,0,1,1)]\n",
    "S1 = [(0,1,1),(1,1,0),(1,0,1)]\n",
    "S2 = []\n",
    "S2 = [(1,1,1)]\n",
    "S3 = []\n",
    "\n",
    "state_dict = {0: S0, 1: S1, 2: S2, 3: S3}\n",
    "\n",
    "full_topological_analysis(num_qubits, n_vertices, state_dict, shots)"
   ]
  },
  {
   "cell_type": "markdown",
   "id": "7510bba0",
   "metadata": {},
   "source": [
    "Two holes on a 4 point simplicial complex"
   ]
  },
  {
   "cell_type": "code",
   "execution_count": 38,
   "id": "b36ab05c",
   "metadata": {},
   "outputs": [
    {
     "name": "stdout",
     "output_type": "stream",
     "text": [
      "Loop k = 0. The dictionary of the data is:\n",
      "{'0110': 1, '0100': 15, '0001': 16, '0111': 6, '0011': 35, '0101': 246, '0000': 9, '0010': 672}\n",
      "Loop k = 0. The histogram is:\n"
     ]
    },
    {
     "data": {
      "image/png": "[encoded data removed]",
      "text/plain": [
       "<Figure size 432x288 with 1 Axes>"
      ]
     },
     "metadata": {
      "needs_background": "light"
     },
     "output_type": "display_data"
    },
    {
     "name": "stdout",
     "output_type": "stream",
     "text": [
      "Number of shots: 1000\n",
      "state dict: {0: [(0, 0, 0, 1), (0, 0, 1, 0), (0, 1, 0, 0), (1, 0, 0, 0)], 1: [(0, 0, 1, 1), (0, 1, 1, 0), (1, 1, 0, 0), (1, 0, 0, 1), (1, 0, 1, 0)], 2: [], 3: []}\n",
      "Total count of holes: 0.036 \n",
      "Loop k = 1. The dictionary of the data is:\n",
      "{'0110': 4, '0100': 5, '0001': 13, '0111': 2, '0011': 11, '0101': 215, '0010': 367, '0000': 383}\n",
      "Loop k = 1. The histogram is:\n"
     ]
    },
    {
     "data": {
      "image/png": "[encoded data removed]",
      "text/plain": [
       "<Figure size 432x288 with 1 Axes>"
      ]
     },
     "metadata": {
      "needs_background": "light"
     },
     "output_type": "display_data"
    },
    {
     "name": "stdout",
     "output_type": "stream",
     "text": [
      "Number of shots: 1000\n",
      "state dict: {0: [(0, 0, 0, 1), (0, 0, 1, 0), (0, 1, 0, 0), (1, 0, 0, 0)], 1: [(0, 0, 1, 1), (0, 1, 1, 0), (1, 1, 0, 0), (1, 0, 0, 1), (1, 0, 1, 0)], 2: [], 3: []}\n",
      "Total count of holes: 1.915 \n",
      "calculation terminated because no simplex of size ...\n"
     ]
    }
   ],
   "source": [
    "def example2holes():\n",
    "\n",
    "    n_vertices = 4\n",
    "    num_qubits = 4\n",
    "    shots = 1000\n",
    "\n",
    "    S0 = [(0,0,0,1),(0,0,1,0), (0,1,0,0),(1,0,0,0)]\n",
    "    S1 = [(0,0,1,1),(0,1,1,0),(1,1,0,0),(1,0,0,1),(1,0,1,0)]\n",
    "    S2 = []\n",
    "    S3 = []\n",
    "\n",
    "    state_dict = {0: S0, 1: S1, 2: S2, 3: S3}\n",
    "\n",
    "    full_topological_analysis(num_qubits, n_vertices, state_dict, shots)\n",
    "    \n",
    "example2holes()"
   ]
  },
  {
   "cell_type": "code",
   "execution_count": null,
   "id": "caba2034",
   "metadata": {},
   "outputs": [
    {
     "name": "stdout",
     "output_type": "stream",
     "text": [
      "Loop k = 0. The dictionary of the data is:\n",
      "{'0100': 12, '0110': 7, '0001': 28, '0111': 7, '0011': 37, '0101': 257, '0000': 8, '0010': 644}\n",
      "Loop k = 0. The histogram is:\n"
     ]
    },
    {
     "data": {
      "image/png": "[encoded data removed]",
      "text/plain": [
       "<Figure size 432x288 with 1 Axes>"
      ]
     },
     "metadata": {
      "needs_background": "light"
     },
     "output_type": "display_data"
    },
    {
     "name": "stdout",
     "output_type": "stream",
     "text": [
      "Number of shots: 1000\n",
      "state dict: {0: [(0, 0, 0, 1), (0, 0, 1, 0), (0, 1, 0, 0), (1, 0, 0, 0)], 1: [(0, 0, 1, 1), (0, 1, 1, 0), (1, 1, 0, 0), (1, 0, 0, 1), (1, 0, 1, 0)], 2: [(1, 0, 1, 1)], 3: []}\n",
      "Total count of holes: 0.032 \n"
     ]
    }
   ],
   "source": [
    "def example1hole():\n",
    "\n",
    "    n_vertices = 4\n",
    "    num_qubits = 4\n",
    "    shots = 1000\n",
    "\n",
    "    S0 = [(0,0,0,1),(0,0,1,0), (0,1,0,0),(1,0,0,0)]\n",
    "    #S_test = [(0,1,0,0),(0,0,1,1)]\n",
    "    S1 = [(0,0,1,1),(0,1,1,0),(1,1,0,0),(1,0,0,1),(1,0,1,0)]\n",
    "    S2 = [(1,0,1,1)]\n",
    "    S3 = []\n",
    "\n",
    "    state_dict = {0: S0, 1: S1, 2: S2, 3: S3}\n",
    "\n",
    "    full_topological_analysis(num_qubits, n_vertices, state_dict, shots)\n",
    "    \n",
    "example1hole()"
   ]
  },
  {
   "cell_type": "code",
   "execution_count": 174,
   "id": "e9b0603d",
   "metadata": {},
   "outputs": [
    {
     "name": "stdout",
     "output_type": "stream",
     "text": [
      "Loop k = 0. The dictionary of the data is:\n",
      "{'0110': 4, '0001': 13, '0100': 13, '0011': 41, '0111': 2, '0010': 700, '0000': 4, '0101': 223}\n",
      "Loop k = 0. The histogram is:\n"
     ]
    },
    {
     "data": {
      "image/png": "[encoded data removed]",
      "text/plain": [
       "<Figure size 432x288 with 1 Axes>"
      ]
     },
     "metadata": {
      "needs_background": "light"
     },
     "output_type": "display_data"
    },
    {
     "name": "stdout",
     "output_type": "stream",
     "text": [
      "Number of shots: 1000\n",
      "state dict: {0: [(0, 0, 0, 1), (0, 0, 1, 0), (0, 1, 0, 0), (1, 0, 0, 0)], 1: [(0, 0, 1, 1), (0, 1, 1, 0), (1, 1, 0, 0), (1, 0, 0, 1), (1, 0, 1, 0)], 2: [(1, 0, 1, 1)], 3: []}\n",
      "Total count of holes: 0.016 \n",
      "Loop k = 1. The dictionary of the data is:\n",
      "{'0110': 9, '0001': 21, '0100': 8, '0010': 370, '0000': 316, '0101': 215, '0011': 15, '0111': 46}\n",
      "Loop k = 1. The histogram is:\n"
     ]
    },
    {
     "data": {
      "image/png": "[encoded data removed]",
      "text/plain": [
       "<Figure size 432x288 with 1 Axes>"
      ]
     },
     "metadata": {
      "needs_background": "light"
     },
     "output_type": "display_data"
    },
    {
     "name": "stdout",
     "output_type": "stream",
     "text": [
      "Number of shots: 1000\n",
      "state dict: {0: [(0, 0, 0, 1), (0, 0, 1, 0), (0, 1, 0, 0), (1, 0, 0, 0)], 1: [(0, 0, 1, 1), (0, 1, 1, 0), (1, 1, 0, 0), (1, 0, 0, 1), (1, 0, 1, 0)], 2: [(1, 0, 1, 1)], 3: []}\n",
      "Total count of holes: 1.58 \n",
      "Loop k = 2. The dictionary of the data is:\n",
      "{'0101': 18, '0001': 47, '0110': 37, '0100': 10, '0011': 15, '0111': 195, '0010': 22, '0000': 656}\n",
      "Loop k = 2. The histogram is:\n"
     ]
    },
    {
     "data": {
      "image/png": "[encoded data removed]",
      "text/plain": [
       "<Figure size 432x288 with 1 Axes>"
      ]
     },
     "metadata": {
      "needs_background": "light"
     },
     "output_type": "display_data"
    },
    {
     "name": "stdout",
     "output_type": "stream",
     "text": [
      "Number of shots: 1000\n",
      "state dict: {0: [(0, 0, 0, 1), (0, 0, 1, 0), (0, 1, 0, 0), (1, 0, 0, 0)], 1: [(0, 0, 1, 1), (0, 1, 1, 0), (1, 1, 0, 0), (1, 0, 0, 1), (1, 0, 1, 0)], 2: [(1, 0, 1, 1)], 3: []}\n",
      "Total count of holes: 0.656 \n",
      "calculation terminated because no simplex of size ...\n"
     ]
    }
   ],
   "source": [
    "\n",
    "n_vertices = 4\n",
    "num_qubits = 4\n",
    "shots = 1000\n",
    "\n",
    "S0 = [(0,0,0,1),(0,0,1,0), (0,1,0,0),(1,0,0,0)]\n",
    "#S_test = [(0,1,0,0),(0,0,1,1)]\n",
    "S1 = [(0,0,1,1),(0,1,1,0),(1,1,0,0),(1,0,0,1),(1,0,1,0)]\n",
    "S2 = [(1,0,1,1)]\n",
    "S3 = []\n",
    "\n",
    "state_dict = {0: S0, 1: S1, 2: S2, 3: S3}\n",
    "\n",
    "qpe = QuantumCircuit(num_qubits + n_vertices)\n",
    "\n",
    "full_topological_analysis(qpe, num_qubits, n_vertices, state_dict, shots)"
   ]
  },
  {
   "cell_type": "code",
   "execution_count": 78,
   "id": "e0e7e373",
   "metadata": {},
   "outputs": [
    {
     "data": {
      "image/png": "[encoded data removed]",
      "text/plain": [
       "<Figure size 504x360 with 1 Axes>"
      ]
     },
     "execution_count": 78,
     "metadata": {},
     "output_type": "execute_result"
    }
   ],
   "source": [
    "backend = Aer.get_backend('qasm_simulator')\n",
    "job = execute(qc, backend, shots=5000)\n",
    "data = job.result().get_counts(qc)\n",
    "plot_histogram(data)"
   ]
  },
  {
   "cell_type": "code",
   "execution_count": 52,
   "id": "52339a17",
   "metadata": {},
   "outputs": [],
   "source": [
    "def run_circuit(circuit):\n",
    "    qasm_sim = Aer.get_backend('qasm_simulator')\n",
    "    shots = 2048\n",
    "    job = execute(circuit, qasm_sim, shots=1024)\n",
    "    answer = job.result().get_counts(qc)\n",
    "    return answer"
   ]
  },
  {
   "cell_type": "code",
   "execution_count": 79,
   "id": "5ae94c9d",
   "metadata": {},
   "outputs": [
    {
     "name": "stdout",
     "output_type": "stream",
     "text": [
      "{'0000': 2, '1110': 2, '0010': 3, '1010': 20, '0110': 31, '1100': 4, '0100': 7, '0101': 11, '0001': 3, '0011': 4, '0111': 215, '1101': 2, '1111': 3, '1000': 659, '1001': 49, '1011': 9}\n"
     ]
    },
    {
     "data": {
      "text/plain": [
       "(array([2., 1., 2., 1., 2., 1., 2., 1., 2., 2.]),\n",
       " array([ 0. ,  1.5,  3. ,  4.5,  6. ,  7.5,  9. , 10.5, 12. , 13.5, 15. ]),\n",
       " <BarContainer object of 10 artists>)"
      ]
     },
     "execution_count": 79,
     "metadata": {},
     "output_type": "execute_result"
    },
    {
     "data": {
      "image/png": "[encoded data removed]",
      "text/plain": [
       "<Figure size 432x288 with 1 Axes>"
      ]
     },
     "metadata": {
      "needs_background": "light"
     },
     "output_type": "display_data"
    }
   ],
   "source": [
    "answer = run_circuit(qc)\n",
    "print(answer)\n",
    "plot_histogram(answer)"
   ]
  },
  {
   "cell_type": "code",
   "execution_count": null,
   "id": "6b4b29cf",
   "metadata": {},
   "outputs": [],
   "source": []
  },
  {
   "cell_type": "code",
   "execution_count": null,
   "id": "0f9f630d",
   "metadata": {},
   "outputs": [],
   "source": []
  },
  {
   "cell_type": "code",
   "execution_count": null,
   "id": "c7cc6fce",
   "metadata": {},
   "outputs": [],
   "source": []
  },
  {
   "cell_type": "code",
   "execution_count": null,
   "id": "ead95e99",
   "metadata": {},
   "outputs": [],
   "source": []
  },
  {
   "cell_type": "code",
   "execution_count": null,
   "id": "34e6bd8e",
   "metadata": {},
   "outputs": [],
   "source": []
  }
 ],
 "metadata": {
  "kernelspec": {
   "display_name": "Python 3",
   "language": "python",
   "name": "python3"
  },
  "language_info": {
   "codemirror_mode": {
    "name": "ipython",
    "version": 3
   },
   "file_extension": ".py",
   "mimetype": "text/x-python",
   "name": "python",
   "nbconvert_exporter": "python",
   "pygments_lexer": "ipython3",
   "version": "3.7.6"
  }
 },
 "nbformat": 4,
 "nbformat_minor": 5
}
