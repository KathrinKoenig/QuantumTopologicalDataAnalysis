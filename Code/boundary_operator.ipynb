{
 "cells": [
  {
   "cell_type": "markdown",
   "metadata": {},
   "source": [
    "Here we implement the boundary operator, as well as the combinatorical Laplacian."
   ]
  },
  {
   "cell_type": "code",
   "execution_count": 47,
   "metadata": {},
   "outputs": [],
   "source": [
    "import numpy as np\n",
    "import itertools as it"
   ]
  },
  {
   "cell_type": "code",
   "execution_count": 56,
   "metadata": {},
   "outputs": [],
   "source": [
    "def boundary_operator(x_tuple):\n",
    "    x_np = np.array(x_tuple)\n",
    "    indices = np.nonzero(x_np)[0]\n",
    "    dictionary = {}\n",
    "    for i in range(len(indices)):\n",
    "        helper = x_np.copy()\n",
    "        helper[indices[i]] = 0\n",
    "        dictionary[tuple(helper)] = (-1)**i\n",
    "    return dictionary\n",
    "\n",
    "def boundary_operator_dict(N_vertices):\n",
    "    dictionary = {}\n",
    "    for b in it.product(range(2), repeat=N_vertices):\n",
    "        helper = boundary_operator(b)\n",
    "        for key in helper.keys():\n",
    "            dictionary[(tuple(b),key)] = helper[key]\n",
    "    return dictionary"
   ]
  },
  {
   "cell_type": "code",
   "execution_count": 73,
   "metadata": {},
   "outputs": [
    {
     "data": {
      "text/plain": [
       "{((0, 0, 1), (0, 0, 0)): 1,\n",
       " ((0, 1, 0), (0, 0, 0)): 1,\n",
       " ((0, 1, 1), (0, 0, 1)): 1,\n",
       " ((0, 1, 1), (0, 1, 0)): -1,\n",
       " ((1, 0, 0), (0, 0, 0)): 1,\n",
       " ((1, 0, 1), (0, 0, 1)): 1,\n",
       " ((1, 0, 1), (1, 0, 0)): -1,\n",
       " ((1, 1, 0), (0, 1, 0)): 1,\n",
       " ((1, 1, 0), (1, 0, 0)): -1,\n",
       " ((1, 1, 1), (0, 1, 1)): 1,\n",
       " ((1, 1, 1), (1, 0, 1)): -1,\n",
       " ((1, 1, 1), (1, 1, 0)): 1}"
      ]
     },
     "execution_count": 73,
     "metadata": {},
     "output_type": "execute_result"
    }
   ],
   "source": [
    "d = boundary_operator_dict(3)\n",
    "d"
   ]
  },
  {
   "cell_type": "code",
   "execution_count": null,
   "metadata": {},
   "outputs": [],
   "source": []
  }
 ],
 "metadata": {
  "kernelspec": {
   "display_name": "Python 3",
   "language": "python",
   "name": "python3"
  },
  "language_info": {
   "codemirror_mode": {
    "name": "ipython",
    "version": 3
   },
   "file_extension": ".py",
   "mimetype": "text/x-python",
   "name": "python",
   "nbconvert_exporter": "python",
   "pygments_lexer": "ipython3",
   "version": "3.8.0"
  }
 },
 "nbformat": 4,
 "nbformat_minor": 4
}
