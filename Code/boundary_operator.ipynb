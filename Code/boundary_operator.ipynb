{
 "cells": [
  {
   "cell_type": "markdown",
   "metadata": {},
   "source": [
    "Here we implement the boundary operator, as well as the combinatorical Laplacian."
   ]
  },
  {
   "cell_type": "code",
   "execution_count": 148,
   "metadata": {},
   "outputs": [],
   "source": [
    "import numpy as np\n",
    "import itertools as it\n",
    "from scipy.sparse import csr_matrix"
   ]
  },
  {
   "cell_type": "markdown",
   "metadata": {},
   "source": [
    "Define some functions. 'state' is a list of tuples of zeros and ones of length n_vertices, specifying a superposition of simplices. 'vec' is a vector of length 2**n_vertices, specifying the superposition of simplices represented in the multi-quibit basis."
   ]
  },
  {
   "cell_type": "code",
   "execution_count": 149,
   "metadata": {},
   "outputs": [],
   "source": [
    "def vec_to_state(vec):\n",
    "    n_vertices = int(np.log2(len(vec)))\n",
    "    basis_list = list(it.product(range(2), repeat=n_vertices))\n",
    "    indices = np.nonzero(vec)[0]\n",
    "    return [basis_list[i] for i in indices]\n",
    "\n",
    "def state_to_vec(state):\n",
    "    ''' state is a list of state '''\n",
    "    n_vertices = len(state[0])\n",
    "    basis_list = list(it.product(range(2), repeat=n_vertices))\n",
    "    basis_dict = {basis_list[i]: i for i in range(2**n_vertices)}\n",
    "    vec = np.zeros(2**n_vertices)\n",
    "    for s in state:\n",
    "        vec[basis_dict[s]] = 1\n",
    "    return vec\n",
    "\n",
    "def boundary_operator(x_tuple):\n",
    "    x_np = np.array(x_tuple)\n",
    "    indices = np.nonzero(x_np)[0]\n",
    "    dictionary = {}\n",
    "    for i in range(len(indices)):\n",
    "        helper = x_np.copy()\n",
    "        helper[indices[i]] = 0\n",
    "        dictionary[tuple(helper)] = (-1)**i\n",
    "    return dictionary\n",
    "\n",
    "def boundary_operator_dict(n_vertices):\n",
    "    dictionary = {}\n",
    "    dictionary[(tuple([0 for i in range(n_vertices)]),tuple([0 for i in range(n_vertices)]))] = 0\n",
    "    for b in it.product(range(2), repeat=n_vertices):\n",
    "        helper = boundary_operator(b)\n",
    "        for key in helper.keys():\n",
    "            dictionary[(tuple(b),key)] = helper[key]\n",
    "    return dictionary\n",
    "\n",
    "def boundary_operator_crsmat(n_vertices):\n",
    "    dictionary = boundary_operator_dict(n_vertices)\n",
    "    basis_list = list(it.product(range(2), repeat=n_vertices))\n",
    "    basis_dict = {basis_list[i]: i for i in range(2**n_vertices)}\n",
    "    col = np.array([basis_dict[index[0]] for index in dictionary.keys()])\n",
    "    row = np.array([basis_dict[index[1]] for index in dictionary.keys()])\n",
    "    data = np.array(list(dictionary.values()))\n",
    "    return csr_matrix((data, (row, col)), shape=(2**n_vertices, 2**n_vertices))"
   ]
  },
  {
   "cell_type": "markdown",
   "metadata": {},
   "source": [
    "Get boundary operator as sparse crs matrix"
   ]
  },
  {
   "cell_type": "code",
   "execution_count": 150,
   "metadata": {},
   "outputs": [
    {
     "data": {
      "text/plain": [
       "array([[ 0,  1,  1,  0,  1,  0,  0,  0],\n",
       "       [ 0,  0,  0,  1,  0,  1,  0,  0],\n",
       "       [ 0,  0,  0, -1,  0,  0,  1,  0],\n",
       "       [ 0,  0,  0,  0,  0,  0,  0,  1],\n",
       "       [ 0,  0,  0,  0,  0, -1, -1,  0],\n",
       "       [ 0,  0,  0,  0,  0,  0,  0, -1],\n",
       "       [ 0,  0,  0,  0,  0,  0,  0,  1],\n",
       "       [ 0,  0,  0,  0,  0,  0,  0,  0]])"
      ]
     },
     "execution_count": 150,
     "metadata": {},
     "output_type": "execute_result"
    }
   ],
   "source": [
    "mat = boundary_operator_crsmat(3).toarray()\n",
    "mat"
   ]
  },
  {
   "cell_type": "markdown",
   "metadata": {},
   "source": [
    "Check, that $\\partial^2 = 0$"
   ]
  },
  {
   "cell_type": "code",
   "execution_count": 151,
   "metadata": {},
   "outputs": [
    {
     "data": {
      "text/plain": [
       "array([[0, 0, 0, 0, 0, 0, 0, 0],\n",
       "       [0, 0, 0, 0, 0, 0, 0, 0],\n",
       "       [0, 0, 0, 0, 0, 0, 0, 0],\n",
       "       [0, 0, 0, 0, 0, 0, 0, 0],\n",
       "       [0, 0, 0, 0, 0, 0, 0, 0],\n",
       "       [0, 0, 0, 0, 0, 0, 0, 0],\n",
       "       [0, 0, 0, 0, 0, 0, 0, 0],\n",
       "       [0, 0, 0, 0, 0, 0, 0, 0]])"
      ]
     },
     "execution_count": 151,
     "metadata": {},
     "output_type": "execute_result"
    }
   ],
   "source": [
    "mat@mat"
   ]
  },
  {
   "cell_type": "markdown",
   "metadata": {},
   "source": [
    "Example boundary is calculated."
   ]
  },
  {
   "cell_type": "code",
   "execution_count": 152,
   "metadata": {},
   "outputs": [
    {
     "data": {
      "text/plain": [
       "[(0, 1, 1), (1, 0, 1), (1, 1, 0)]"
      ]
     },
     "execution_count": 152,
     "metadata": {},
     "output_type": "execute_result"
    }
   ],
   "source": [
    "state = [(1,1,1)]\n",
    "n_vertices = 3\n",
    "mat = boundary_operator_crsmat(n_vertices).toarray()\n",
    "vec = state_to_vec(state)\n",
    "vec_to_state(mat@vec)"
   ]
  },
  {
   "cell_type": "code",
   "execution_count": null,
   "metadata": {},
   "outputs": [],
   "source": []
  }
 ],
 "metadata": {
  "kernelspec": {
   "display_name": "Python 3",
   "language": "python",
   "name": "python3"
  },
  "language_info": {
   "codemirror_mode": {
    "name": "ipython",
    "version": 3
   },
   "file_extension": ".py",
   "mimetype": "text/x-python",
   "name": "python",
   "nbconvert_exporter": "python",
   "pygments_lexer": "ipython3",
   "version": "3.8.0"
  }
 },
 "nbformat": 4,
 "nbformat_minor": 4
}
