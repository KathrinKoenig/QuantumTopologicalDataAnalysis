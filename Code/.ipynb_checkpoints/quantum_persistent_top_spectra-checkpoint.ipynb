{
 "cells": [
  {
   "cell_type": "markdown",
   "id": "64762a1c",
   "metadata": {},
   "source": [
    "<div>\n",
    "<img align=\"right\" src=\"pictures/Logo.png\" width=\"200\"/>\n",
    "</div>\n",
    "\n",
    "# Persistent topological spectra from the quantum algorithm"
   ]
  },
  {
   "cell_type": "markdown",
   "id": "322ac9f8",
   "metadata": {},
   "source": [
    "Kathrin König (kathrin.koenig@iaf.fraunhofer.de), Andreas Woitzik (andreas.woitzik@physik.uni-freiburg.de), Eric Brunner (eric.brunner@physik.uni-freiburg.de)"
   ]
  },
  {
   "cell_type": "code",
   "execution_count": 1,
   "id": "b5043a67",
   "metadata": {},
   "outputs": [],
   "source": [
    "import numpy as np\n",
    "import qtda_module as qtda\n",
    "from qiskit.visualization import plot_histogram"
   ]
  },
  {
   "cell_type": "markdown",
   "id": "df319693",
   "metadata": {},
   "source": [
    "In this notebook we explain the persistent topological analysis, in particular how topological spectra can be obtained on different scales from a data filtration, and how to extract Betti numbers from them. For this a filtration of simplicial complexes is generated from the data cloud. This filtration encodes topological and geometric signatures to understand the shape of the data.\n",
    "\n",
    "To generate the data filtration, we build upon the Python-library GUDHI (https://github.com/GUDHI) for classical topological data analysis. The data can either be supplied by data points in euclidean space, or as an abstract distance matrix (containing all pairwise distances of the points) in a general metric space."
   ]
  },
  {
   "cell_type": "markdown",
   "id": "5e5ef22e",
   "metadata": {},
   "source": [
    "## Data filtration"
   ]
  },
  {
   "cell_type": "markdown",
   "id": "75609b5a",
   "metadata": {},
   "source": [
    "We consider a square of four points:"
   ]
  },
  {
   "cell_type": "markdown",
   "id": "39dd4cd6",
   "metadata": {},
   "source": [
    "<div>\n",
    "<img src=\"pictures/SquareOf4Points.png\" width=\"300\"/>\n",
    "</div>"
   ]
  },
  {
   "cell_type": "code",
   "execution_count": 3,
   "id": "bf61604a",
   "metadata": {},
   "outputs": [],
   "source": [
    "point_data = np.array([\n",
    "    [0.,0.],\n",
    "    [1.,0.],\n",
    "    [1.,1.],\n",
    "    [0.,1.],\n",
    "    ])\n",
    "\n",
    "# alternatively a distance matrix (here generated from the point data for exemplification)\n",
    "# can be used\n",
    "from scipy.spatial import distance_matrix\n",
    "dist_mat = distance_matrix(point_data, point_data)\n",
    "\n",
    "filtration = qtda.DataFiltration(\n",
    "    data=point_data, \n",
    "#     distance_matrix=dist_mat, \n",
    "    max_dimension=3, \n",
    "    max_edge_length=2\n",
    "    )"
   ]
  },
  {
   "cell_type": "markdown",
   "id": "69d70064",
   "metadata": {},
   "source": [
    "A maximal dimension up to which simplices are considered and a maximal edge-length have to be given. This allows a more efficient generation of the filtration and is reasonable, since usually one is interested in topological features up to a given order."
   ]
  },
  {
   "cell_type": "markdown",
   "id": "d0cb8bc8",
   "metadata": {},
   "source": [
    "The persistence diagram of the filtration can be plotted. From there it is seen, that on zeroth order several (four) features (connected components) appear at scale $\\varepsilon = 0$, which die again at scale $\\varepsilon = 1$. These are the four connected components (the individual data points) that connect to a single component at $\\varepsilon = 1$. At this filtration scale, when the four vertices connect to a single square, on first order the 1-dimensional hole in the square is born. This feature dies at $\\varepsilon = \\sqrt{2}$ when the diagonal vertices connect."
   ]
  },
  {
   "cell_type": "code",
   "execution_count": 4,
   "id": "961bc1c8",
   "metadata": {},
   "outputs": [
    {
     "data": {
      "image/png": "[encoded data removed]",
      "text/plain": [
       "<Figure size 432x288 with 1 Axes>"
      ]
     },
     "metadata": {
      "needs_background": "light"
     },
     "output_type": "display_data"
    }
   ],
   "source": [
    "filtration.plot_persistence_diagram()"
   ]
  },
  {
   "cell_type": "markdown",
   "id": "8402b480",
   "metadata": {},
   "source": [
    "## Quantum analysis of topological spectra"
   ]
  },
  {
   "cell_type": "markdown",
   "id": "856a0107",
   "metadata": {},
   "source": [
    "Next, the quantum algorithm, provided by `qtda.Q_persistent_top_spectra`, is employed to calculate these topological features on the different filtration scales. For the algorithm one has to specify the maximal dimension up to which topological features should be analyzed. In our example of four vertices, only $k$-simplices for $k=0,1,2,3$ are possible. Further, a maximal egde-length has to be specified, which we set to 2 to allow for all possible connections between the data points. Non-trivial changes in the topology occur at the three scales $\\varepsilon = 0,1,\\sqrt{2}$."
   ]
  },
  {
   "cell_type": "code",
   "execution_count": null,
   "id": "894179b2",
   "metadata": {},
   "outputs": [
    {
     "name": "stdout",
     "output_type": "stream",
     "text": [
      "\n",
      "Filtration scale:  0.0\n",
      "\n",
      "Topological order:  0\n",
      "Topological order:  1\n",
      "calculation terminated because no simplex of dimension 1\n",
      "\n",
      "Filtration scale:  1.0\n",
      "\n",
      "Topological order:  0\n",
      "Topological order:  1\n",
      "Topological order:  2\n",
      "calculation terminated because no simplex of dimension 2\n",
      "\n",
      "Filtration scale:  1.4142135623730951\n",
      "\n",
      "Topological order:  0\n",
      "Topological order:  1\n",
      "Topological order:  2\n"
     ]
    }
   ],
   "source": [
    "shots = 1000\n",
    "num_eval_qubits = 10\n",
    "# epsilons = [0.1, 1.1, 1.5]\n",
    "\n",
    "data = qtda.Q_persistent_top_spectra(\n",
    "    data = point_data,\n",
    "#     distance_matrix=distance_matrix, \n",
    "    max_dimension=3, \n",
    "    max_edge_length=2, \n",
    "    num_eval_qubits=num_eval_qubits, \n",
    "    shots=shots)"
   ]
  },
  {
   "cell_type": "markdown",
   "id": "b7c15f47",
   "metadata": {},
   "source": [
    "Below, the topological spectra (eigenvalues of the combinatorial laplacian $\\Delta_k$ with dimension of corresponding eigenspace) are shown on all filtration scales $\\varepsilon = 0,1,\\sqrt{2}$ and orders $k=0,1$, since the topology in higher dimensions is trivial in the considerd example. The dimension of the Zero-eigenspace $\\dim \\text{Eig}_0(\\Delta_0)$ (i.e. the kernel of $\\Delta_k$) gives the number of holes, i.e. the Betti-number $\\beta_k$, at this topological order. Note that on zeroth order, the number of connected components, i.e the number of 0-holes plus one, is $1 + \\dim \\text{Eig}_0(\\Delta_0)$.\n",
    "\n",
    "Further, the counting statistics of the QTDA-circuit is shown. Note that to determine the dimension of the Zero-eigenspaces $\\text{Eig}_0(\\Delta_k)$, a much lower numerical precision would be sufficient. Already with only five numerical evaluation qubits (of the phase estimation algorithm), the number of holes at different scales and topological orders is estimated very well."
   ]
  },
  {
   "cell_type": "code",
   "execution_count": null,
   "id": "a10c053f",
   "metadata": {
    "scrolled": false
   },
   "outputs": [],
   "source": [
    "eigenvalue_dict = data.get_eigenvalues()\n",
    "\n",
    "for eps in eigenvalue_dict.keys():\n",
    "    print()\n",
    "    print()\n",
    "    print('Filtration scale: ', eps)\n",
    "    for top_order in eigenvalue_dict[eps].keys():\n",
    "        print()\n",
    "        print('Topological order: ', top_order)\n",
    "        print('Number of holes: ', eigenvalue_dict[eps][top_order][0.0])\n",
    "        print('Dimension of the k-simplex subspace: ', len(data.state_dict[eps][top_order]))\n",
    "        print('Eigenvalues of the combinatorial laplacian with dimension of corresponding eigenspaces: ')\n",
    "        print(eigenvalue_dict[eps][top_order])\n",
    "        display(plot_histogram(data.get_counts()[eps][top_order]))"
   ]
  },
  {
   "cell_type": "markdown",
   "id": "1d4bb6f3",
   "metadata": {},
   "source": [
    "We see, that at $\\varepsilon = 0$ we have $3+1$ connected components, one for each of the data points. These connect to a single connected component at filtration scale $\\varepsilon = 1$. Further, at this scale the 1-dimensional hole in the square is born, which terminates at $\\varepsilon = \\sqrt{2}$ when the inner of the square (the 2-simplices $[0,1,1,1],[1,0,1,1],[1,1,0,1]$ and $[1,1,1,0]$) is added.\n",
    "\n",
    "Hence, we observe the same topological features as summarized in the persistence diagram above.\n"
   ]
  },
  {
   "cell_type": "code",
   "execution_count": null,
   "id": "bfe44ef0",
   "metadata": {},
   "outputs": [],
   "source": [
    "import qiskit\n",
    "qiskit.__qiskit_version__"
   ]
  },
  {
   "cell_type": "code",
   "execution_count": null,
   "id": "eed359e0",
   "metadata": {},
   "outputs": [],
   "source": []
  }
 ],
 "metadata": {
  "kernelspec": {
   "display_name": "Python 3",
   "language": "python",
   "name": "python3"
  },
  "language_info": {
   "codemirror_mode": {
    "name": "ipython",
    "version": 3
   },
   "file_extension": ".py",
   "mimetype": "text/x-python",
   "name": "python",
   "nbconvert_exporter": "python",
   "pygments_lexer": "ipython3",
   "version": "3.8.0"
  }
 },
 "nbformat": 4,
 "nbformat_minor": 5
}
