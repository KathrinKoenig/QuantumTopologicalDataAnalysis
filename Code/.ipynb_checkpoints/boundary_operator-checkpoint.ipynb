{
 "cells": [
  {
   "cell_type": "markdown",
   "metadata": {},
   "source": [
    "Here we implement the boundary operator, as well as the combinatorical Laplacian."
   ]
  },
  {
   "cell_type": "code",
   "execution_count": 3,
   "metadata": {},
   "outputs": [],
   "source": [
    "import numpy as np\n",
    "import itertools as it\n",
    "from scipy.sparse import csr_matrix"
   ]
  },
  {
   "cell_type": "markdown",
   "metadata": {},
   "source": [
    "Define some functions. 'state' is a list of tuples of zeros and ones of length n_vertices, specifying a superposition of simplices. 'vec' is a vector of length 2**n_vertices, specifying the superposition of simplices represented in the multi-quibit basis."
   ]
  },
  {
   "cell_type": "code",
   "execution_count": 25,
   "metadata": {},
   "outputs": [],
   "source": [
    "def vec_to_state(vec):\n",
    "    n_vertices = int(np.log2(len(vec)))\n",
    "    basis_list = list(it.product(range(2), repeat=n_vertices))\n",
    "    indices = np.nonzero(vec)[0]\n",
    "    return {basis_list[i]:vec[i] for i in indices}\n",
    "\n",
    "def state_to_vec(state):\n",
    "    ''' state is a list of state '''\n",
    "    n_vertices = len(state[0])\n",
    "    basis_list = list(it.product(range(2), repeat=n_vertices))\n",
    "    basis_dict = {basis_list[i]: i for i in range(2**n_vertices)}\n",
    "    vec = np.zeros(2**n_vertices)\n",
    "    for s in state:\n",
    "        vec[basis_dict[s]] = 1\n",
    "    return vec\n",
    "\n",
    "def boundary_operator(x_tuple):\n",
    "    x_np = np.array(x_tuple)\n",
    "    indices = np.nonzero(x_np)[0]\n",
    "    dictionary = {}\n",
    "    k = len(indices)\n",
    "    for i in range(k):\n",
    "        helper = x_np.copy()\n",
    "        helper[indices[k-1-i]] = 0\n",
    "        dictionary[tuple(helper)] = (-1)**(i)\n",
    "    return dictionary\n",
    "\n",
    "def boundary_operator_dict(n_vertices):\n",
    "    dictionary = {}\n",
    "    dictionary[(tuple([0 for i in range(n_vertices)]),tuple([0 for i in range(n_vertices)]))] = 0\n",
    "    for b in it.product(range(2), repeat=n_vertices):\n",
    "        helper = boundary_operator(b)\n",
    "        for key in helper.keys():\n",
    "            dictionary[(tuple(b),key)] = helper[key]\n",
    "    return dictionary\n",
    "\n",
    "def boundary_operator_dict_k(n_vertices, k):\n",
    "    dictionary = {}\n",
    "    dictionary[(tuple([0 for i in range(n_vertices)]),tuple([0 for i in range(n_vertices)]))] = 0\n",
    "    for b in it.product(range(2), repeat=n_vertices):\n",
    "        if np.sum(b) == k:\n",
    "            helper = boundary_operator(b)\n",
    "            for key in helper.keys():\n",
    "                dictionary[(tuple(b),key)] = helper[key]\n",
    "    return dictionary\n",
    "\n",
    "def boundary_operator_crsmat(n_vertices):\n",
    "    dictionary = boundary_operator_dict(n_vertices)\n",
    "    basis_list = list(it.product(range(2), repeat=n_vertices))\n",
    "    basis_dict = {basis_list[i]: i for i in range(2**n_vertices)}\n",
    "    col = np.array([basis_dict[index[0]] for index in dictionary.keys()])\n",
    "    row = np.array([basis_dict[index[1]] for index in dictionary.keys()])\n",
    "    data = np.array(list(dictionary.values()))\n",
    "    return csr_matrix((data, (row, col)), shape=(2**n_vertices, 2**n_vertices))\n",
    "\n",
    "def boundary_operator_crsmat_k(n_vertices, k):\n",
    "    dictionary = boundary_operator_dict_k(n_vertices, k)\n",
    "    basis_list = list(it.product(range(2), repeat=n_vertices))\n",
    "    basis_dict = {basis_list[i]: i for i in range(2**n_vertices)}\n",
    "    col = np.array([basis_dict[index[0]] for index in dictionary.keys()])\n",
    "    row = np.array([basis_dict[index[1]] for index in dictionary.keys()])\n",
    "    data = np.array(list(dictionary.values()))\n",
    "    return csr_matrix((data, (row, col)), shape=(2**n_vertices, 2**n_vertices))"
   ]
  },
  {
   "cell_type": "markdown",
   "metadata": {},
   "source": [
    "## Get boundary operator as sparse crs matrix"
   ]
  },
  {
   "cell_type": "code",
   "execution_count": 5,
   "metadata": {},
   "outputs": [
    {
     "data": {
      "text/plain": [
       "array([[ 0,  1,  1,  0,  1,  0,  0,  0,  1,  0,  0,  0,  0,  0,  0,  0],\n",
       "       [ 0,  0,  0, -1,  0, -1,  0,  0,  0, -1,  0,  0,  0,  0,  0,  0],\n",
       "       [ 0,  0,  0,  1,  0,  0, -1,  0,  0,  0, -1,  0,  0,  0,  0,  0],\n",
       "       [ 0,  0,  0,  0,  0,  0,  0,  1,  0,  0,  0,  1,  0,  0,  0,  0],\n",
       "       [ 0,  0,  0,  0,  0,  1,  1,  0,  0,  0,  0,  0, -1,  0,  0,  0],\n",
       "       [ 0,  0,  0,  0,  0,  0,  0, -1,  0,  0,  0,  0,  0,  1,  0,  0],\n",
       "       [ 0,  0,  0,  0,  0,  0,  0,  1,  0,  0,  0,  0,  0,  0,  1,  0],\n",
       "       [ 0,  0,  0,  0,  0,  0,  0,  0,  0,  0,  0,  0,  0,  0,  0, -1],\n",
       "       [ 0,  0,  0,  0,  0,  0,  0,  0,  0,  1,  1,  0,  1,  0,  0,  0],\n",
       "       [ 0,  0,  0,  0,  0,  0,  0,  0,  0,  0,  0, -1,  0, -1,  0,  0],\n",
       "       [ 0,  0,  0,  0,  0,  0,  0,  0,  0,  0,  0,  1,  0,  0, -1,  0],\n",
       "       [ 0,  0,  0,  0,  0,  0,  0,  0,  0,  0,  0,  0,  0,  0,  0,  1],\n",
       "       [ 0,  0,  0,  0,  0,  0,  0,  0,  0,  0,  0,  0,  0,  1,  1,  0],\n",
       "       [ 0,  0,  0,  0,  0,  0,  0,  0,  0,  0,  0,  0,  0,  0,  0, -1],\n",
       "       [ 0,  0,  0,  0,  0,  0,  0,  0,  0,  0,  0,  0,  0,  0,  0,  1],\n",
       "       [ 0,  0,  0,  0,  0,  0,  0,  0,  0,  0,  0,  0,  0,  0,  0,  0]])"
      ]
     },
     "execution_count": 5,
     "metadata": {},
     "output_type": "execute_result"
    }
   ],
   "source": [
    "mat = boundary_operator_crsmat(4).toarray()\n",
    "mat"
   ]
  },
  {
   "cell_type": "markdown",
   "metadata": {},
   "source": [
    "Check, that $\\partial^2 = 0$"
   ]
  },
  {
   "cell_type": "code",
   "execution_count": 6,
   "metadata": {},
   "outputs": [
    {
     "data": {
      "text/plain": [
       "array([[0, 0, 0, 0, 0, 0, 0, 0, 0, 0, 0, 0, 0, 0, 0, 0],\n",
       "       [0, 0, 0, 0, 0, 0, 0, 0, 0, 0, 0, 0, 0, 0, 0, 0],\n",
       "       [0, 0, 0, 0, 0, 0, 0, 0, 0, 0, 0, 0, 0, 0, 0, 0],\n",
       "       [0, 0, 0, 0, 0, 0, 0, 0, 0, 0, 0, 0, 0, 0, 0, 0],\n",
       "       [0, 0, 0, 0, 0, 0, 0, 0, 0, 0, 0, 0, 0, 0, 0, 0],\n",
       "       [0, 0, 0, 0, 0, 0, 0, 0, 0, 0, 0, 0, 0, 0, 0, 0],\n",
       "       [0, 0, 0, 0, 0, 0, 0, 0, 0, 0, 0, 0, 0, 0, 0, 0],\n",
       "       [0, 0, 0, 0, 0, 0, 0, 0, 0, 0, 0, 0, 0, 0, 0, 0],\n",
       "       [0, 0, 0, 0, 0, 0, 0, 0, 0, 0, 0, 0, 0, 0, 0, 0],\n",
       "       [0, 0, 0, 0, 0, 0, 0, 0, 0, 0, 0, 0, 0, 0, 0, 0],\n",
       "       [0, 0, 0, 0, 0, 0, 0, 0, 0, 0, 0, 0, 0, 0, 0, 0],\n",
       "       [0, 0, 0, 0, 0, 0, 0, 0, 0, 0, 0, 0, 0, 0, 0, 0],\n",
       "       [0, 0, 0, 0, 0, 0, 0, 0, 0, 0, 0, 0, 0, 0, 0, 0],\n",
       "       [0, 0, 0, 0, 0, 0, 0, 0, 0, 0, 0, 0, 0, 0, 0, 0],\n",
       "       [0, 0, 0, 0, 0, 0, 0, 0, 0, 0, 0, 0, 0, 0, 0, 0],\n",
       "       [0, 0, 0, 0, 0, 0, 0, 0, 0, 0, 0, 0, 0, 0, 0, 0]])"
      ]
     },
     "execution_count": 6,
     "metadata": {},
     "output_type": "execute_result"
    }
   ],
   "source": [
    "mat@mat"
   ]
  },
  {
   "cell_type": "markdown",
   "metadata": {},
   "source": [
    "Example boundary is calculated."
   ]
  },
  {
   "cell_type": "code",
   "execution_count": 7,
   "metadata": {},
   "outputs": [
    {
     "data": {
      "text/plain": [
       "{(0, 1, 0, 1, 0, 0, 1): -1.0,\n",
       " (1, 0, 0, 1, 0, 0, 1): 1.0,\n",
       " (1, 1, 0, 0, 0, 0, 1): -1.0,\n",
       " (1, 1, 0, 1, 0, 0, 0): 1.0}"
      ]
     },
     "execution_count": 7,
     "metadata": {},
     "output_type": "execute_result"
    }
   ],
   "source": [
    "state = [(1,1,0,1,0,0,1)]\n",
    "n_vertices = len(state[0])\n",
    "mat = boundary_operator_crsmat(n_vertices).toarray()\n",
    "vec = state_to_vec(state)\n",
    "vec_to_state(mat@vec)"
   ]
  },
  {
   "cell_type": "markdown",
   "metadata": {},
   "source": [
    "## Combinatorial laplacian of order $k$"
   ]
  },
  {
   "cell_type": "code",
   "execution_count": 54,
   "metadata": {},
   "outputs": [],
   "source": [
    "k = 2\n",
    "n_vertices=3\n",
    "\n",
    "delta_k = boundary_operator_crsmat_k(n_vertices, k).toarray()\n",
    "delta_kplus1 = boundary_operator_crsmat_k(n_vertices, k+1).toarray()\n",
    "combinatorial_laplacian = delta_k.conj().T @ delta_k + delta_kplus1 @ delta_kplus1.conj().T"
   ]
  },
  {
   "cell_type": "code",
   "execution_count": 55,
   "metadata": {},
   "outputs": [
    {
     "data": {
      "text/plain": [
       "array([[0, 0, 0, 0, 0, 0, 0, 0],\n",
       "       [0, 0, 0, 0, 0, 0, 0, 0],\n",
       "       [0, 0, 0, 0, 0, 0, 0, 0],\n",
       "       [0, 0, 0, 3, 0, 0, 0, 0],\n",
       "       [0, 0, 0, 0, 0, 0, 0, 0],\n",
       "       [0, 0, 0, 0, 0, 3, 0, 0],\n",
       "       [0, 0, 0, 0, 0, 0, 3, 0],\n",
       "       [0, 0, 0, 0, 0, 0, 0, 0]])"
      ]
     },
     "execution_count": 55,
     "metadata": {},
     "output_type": "execute_result"
    }
   ],
   "source": [
    "combinatorial_laplacian"
   ]
  },
  {
   "cell_type": "markdown",
   "metadata": {},
   "source": [
    "## Initialize arbitrary input state"
   ]
  },
  {
   "cell_type": "code",
   "execution_count": 8,
   "metadata": {},
   "outputs": [],
   "source": [
    "from qiskit import QuantumCircuit, ClassicalRegister, QuantumRegister, execute\n",
    "from qiskit.tools.visualization import circuit_drawer\n",
    "from qiskit.quantum_info import state_fidelity\n",
    "from qiskit import BasicAer\n",
    "\n",
    "import math"
   ]
  },
  {
   "cell_type": "code",
   "execution_count": 10,
   "metadata": {},
   "outputs": [
    {
     "data": {
      "image/png": "[encoded data removed]",
      "text/plain": [
       "<Figure size 460.923x204.68 with 1 Axes>"
      ]
     },
     "execution_count": 10,
     "metadata": {},
     "output_type": "execute_result"
    }
   ],
   "source": [
    "# Initializing a three-qubit quantum state\n",
    "desired_vector = [\n",
    "    1 / math.sqrt(16) * complex(0, 1),\n",
    "    1 / math.sqrt(8) * complex(1, 0),\n",
    "    1 / math.sqrt(16) * complex(1, 1),\n",
    "    0,\n",
    "    0,\n",
    "    1 / math.sqrt(8) * complex(1, 2),\n",
    "    1 / math.sqrt(16) * complex(1, 0),\n",
    "    0]\n",
    "\n",
    "\n",
    "q = QuantumRegister(3)\n",
    "\n",
    "qc = QuantumCircuit(q)\n",
    "\n",
    "qc.initialize(desired_vector, [q[0],q[1],q[2]])\n",
    "qc.draw('mpl')\n"
   ]
  },
  {
   "cell_type": "code",
   "execution_count": null,
   "metadata": {},
   "outputs": [],
   "source": []
  }
 ],
 "metadata": {
  "kernelspec": {
   "display_name": "Python 3",
   "language": "python",
   "name": "python3"
  },
  "language_info": {
   "codemirror_mode": {
    "name": "ipython",
    "version": 3
   },
   "file_extension": ".py",
   "mimetype": "text/x-python",
   "name": "python",
   "nbconvert_exporter": "python",
   "pygments_lexer": "ipython3",
   "version": "3.7.6"
  }
 },
 "nbformat": 4,
 "nbformat_minor": 4
}
