{
 "cells": [
  {
   "cell_type": "markdown",
   "id": "ed1f5a9a",
   "metadata": {},
   "source": [
    "# Persistent topological spectra tested on a real device"
   ]
  },
  {
   "cell_type": "markdown",
   "id": "a038b4f5",
   "metadata": {},
   "source": [
    "Kathrin König (kathrin.koenig@iaf.fraunhofer.de), Andreas Woitzik (andreas.woitzik@physik.uni-freiburg.de), Eric Brunner (eric.brunner@physik.uni-freiburg.de)"
   ]
  },
  {
   "cell_type": "code",
   "execution_count": 1,
   "id": "88b1b01c",
   "metadata": {},
   "outputs": [],
   "source": [
    "import numpy as np\n",
    "import qtda_module as qtda\n",
    "from qiskit.visualization import plot_histogram\n",
    "from qiskit import IBMQ\n",
    "from qiskit import execute, QuantumRegister, QuantumCircuit, ClassicalRegister, Aer\n",
    "from qiskit.compiler import transpile"
   ]
  },
  {
   "cell_type": "markdown",
   "id": "1101afd2",
   "metadata": {},
   "source": [
    "In this notebook we test the persistent topological analysis, on real quantum hardware."
   ]
  },
  {
   "cell_type": "code",
   "execution_count": 2,
   "id": "6437c99c",
   "metadata": {},
   "outputs": [
    {
     "ename": "IBMQProviderError",
     "evalue": "'No provider matches the specified criteria: hub = ibm-q-fraunhofer, group = fhg-all, project = ticket'",
     "output_type": "error",
     "traceback": [
      "\u001b[0;31m---------------------------------------------------------------------------\u001b[0m",
      "\u001b[0;31mIBMQProviderError\u001b[0m                         Traceback (most recent call last)",
      "\u001b[0;32m<ipython-input-2-5d53a8b10f5d>\u001b[0m in \u001b[0;36m<module>\u001b[0;34m\u001b[0m\n\u001b[1;32m      1\u001b[0m \u001b[0mprovider\u001b[0m \u001b[0;34m=\u001b[0m \u001b[0mIBMQ\u001b[0m\u001b[0;34m.\u001b[0m\u001b[0mload_account\u001b[0m\u001b[0;34m(\u001b[0m\u001b[0;34m)\u001b[0m\u001b[0;34m\u001b[0m\u001b[0;34m\u001b[0m\u001b[0m\n\u001b[0;32m----> 2\u001b[0;31m \u001b[0maccountProvider\u001b[0m \u001b[0;34m=\u001b[0m \u001b[0mIBMQ\u001b[0m\u001b[0;34m.\u001b[0m\u001b[0mget_provider\u001b[0m\u001b[0;34m(\u001b[0m\u001b[0mhub\u001b[0m\u001b[0;34m=\u001b[0m\u001b[0;34m'ibm-q-fraunhofer'\u001b[0m\u001b[0;34m,\u001b[0m\u001b[0mgroup\u001b[0m \u001b[0;34m=\u001b[0m \u001b[0;34m'fhg-all'\u001b[0m\u001b[0;34m,\u001b[0m\u001b[0mproject\u001b[0m \u001b[0;34m=\u001b[0m \u001b[0;34m'ticket'\u001b[0m\u001b[0;34m)\u001b[0m\u001b[0;34m\u001b[0m\u001b[0;34m\u001b[0m\u001b[0m\n\u001b[0m\u001b[1;32m      3\u001b[0m \u001b[0mbackend\u001b[0m \u001b[0;34m=\u001b[0m \u001b[0maccountProvider\u001b[0m\u001b[0;34m.\u001b[0m\u001b[0mget_backend\u001b[0m\u001b[0;34m(\u001b[0m\u001b[0;34m'ibmq_brooklyn'\u001b[0m\u001b[0;34m)\u001b[0m\u001b[0;34m\u001b[0m\u001b[0;34m\u001b[0m\u001b[0m\n",
      "\u001b[0;32m~/opt/anaconda3/lib/python3.7/site-packages/qiskit/providers/ibmq/ibmqfactory.py\u001b[0m in \u001b[0;36mget_provider\u001b[0;34m(self, hub, group, project)\u001b[0m\n\u001b[1;32m    424\u001b[0m             raise IBMQProviderError('No provider matches the specified criteria: '\n\u001b[1;32m    425\u001b[0m                                     \u001b[0;34m'hub = {}, group = {}, project = {}'\u001b[0m\u001b[0;34m\u001b[0m\u001b[0;34m\u001b[0m\u001b[0m\n\u001b[0;32m--> 426\u001b[0;31m                                     .format(hub, group, project))\n\u001b[0m\u001b[1;32m    427\u001b[0m         \u001b[0;32mif\u001b[0m \u001b[0mlen\u001b[0m\u001b[0;34m(\u001b[0m\u001b[0mproviders\u001b[0m\u001b[0;34m)\u001b[0m \u001b[0;34m>\u001b[0m \u001b[0;36m1\u001b[0m\u001b[0;34m:\u001b[0m\u001b[0;34m\u001b[0m\u001b[0;34m\u001b[0m\u001b[0m\n\u001b[1;32m    428\u001b[0m             raise IBMQProviderError('More than one provider matches the specified criteria.'\n",
      "\u001b[0;31mIBMQProviderError\u001b[0m: 'No provider matches the specified criteria: hub = ibm-q-fraunhofer, group = fhg-all, project = ticket'"
     ]
    }
   ],
   "source": [
    "provider = IBMQ.load_account()\n",
    "accountProvider = IBMQ.get_provider(hub='ibm-q-fraunhofer',group = 'fhg-all',project = 'ticket')\n",
    "backend = accountProvider.get_backend('ibmq_brooklyn') "
   ]
  },
  {
   "cell_type": "markdown",
   "id": "a737bdb7",
   "metadata": {},
   "source": [
    "## Quantum circuit for the topological analysis"
   ]
  },
  {
   "cell_type": "markdown",
   "id": "60c2f592",
   "metadata": {},
   "source": [
    "As an example, the quantum circuit for the topological analysis of an example simplicial complex of three abstract points is used."
   ]
  },
  {
   "cell_type": "code",
   "execution_count": null,
   "id": "aecce7d6",
   "metadata": {},
   "outputs": [],
   "source": [
    "n_vertices = 3\n",
    "num_eval_qubits = 3\n",
    "\n",
    "S0 = [(0,0,1),(0,1,0), (1,0,0)] # points\n",
    "S1 = [(1,0,1),(0,1,1),(1,1,0)] # lines\n",
    "S2 = []\n",
    "\n",
    "state_dict = {0: S0, 1: S1, 2: S2}\n",
    "k = 1 # order of the combinatorial Laplacian\n",
    "qc = qtda.QTDAalgorithm(num_eval_qubits, k, state_dict)\n",
    "\n",
    "qc.add_register(ClassicalRegister(num_eval_qubits))\n",
    "for q in qc.eval_qubits:\n",
    "    qc.measure(q,q)\n",
    "qc.draw('mpl')"
   ]
  },
  {
   "cell_type": "markdown",
   "id": "d5c91ec3",
   "metadata": {},
   "source": [
    "The circuit is transpiled to the basis gates set `'id', 'rz', 'sx', 'x' and 'cx'`, with the layout method `sabre` (reduces full routing cost) and optimization level 3 (heavy optimization).\n",
    "The transpilation is done for an arbitrary backend and the `ibmq_brooklyn`."
   ]
  },
  {
   "cell_type": "code",
   "execution_count": 4,
   "id": "b0df0fbe",
   "metadata": {},
   "outputs": [],
   "source": [
    "qcc = transpile(qc, basis_gates=['id', 'rz', 'sx', 'x', 'cx'], layout_method='sabre',optimization_level=3)"
   ]
  },
  {
   "cell_type": "code",
   "execution_count": 5,
   "id": "e004c03e",
   "metadata": {},
   "outputs": [],
   "source": [
    "qa = transpile(qc, backend=backend, basis_gates=['id', 'rz', 'sx', 'x', 'cx'],layout_method='sabre',optimization_level=3)"
   ]
  },
  {
   "cell_type": "markdown",
   "id": "28340ef2",
   "metadata": {},
   "source": [
    "For quantum computers in the NISQ era, a high circuit depth amplifies the errors and is undesired. Because of the high circuit depth, we do expect a high noise level."
   ]
  },
  {
   "cell_type": "code",
   "execution_count": 6,
   "id": "7d62c968",
   "metadata": {},
   "outputs": [
    {
     "data": {
      "text/plain": [
       "1225"
      ]
     },
     "execution_count": 6,
     "metadata": {},
     "output_type": "execute_result"
    }
   ],
   "source": [
    "qa.depth() # depth of ibmq_brooklyn"
   ]
  },
  {
   "cell_type": "code",
   "execution_count": 7,
   "id": "0473802a",
   "metadata": {},
   "outputs": [
    {
     "data": {
      "text/plain": [
       "709"
      ]
     },
     "execution_count": 7,
     "metadata": {},
     "output_type": "execute_result"
    }
   ],
   "source": [
    "qcc.depth() # depth of an arbitrary backend"
   ]
  },
  {
   "cell_type": "markdown",
   "id": "230b4b48",
   "metadata": {},
   "source": [
    "We estimate the number of 1-holes from the output counting statics, by adding measurements on the evaluation qubits (listed in qc.eval_qubits). The number of 1-holes is the probability of measuring eigenvalue $0$ of $\\Delta_1$ times the dimension of the 1-simplex subspace\n",
    "\n",
    "$$\n",
    "\\dim \\ker \\Delta_1 = P(\\text{EV 0}) * \\dim S_1\n",
    "$$"
   ]
  },
  {
   "cell_type": "code",
   "execution_count": 8,
   "id": "435dce74",
   "metadata": {},
   "outputs": [],
   "source": [
    "shots = 8192\n",
    "job = execute(qa, backend, shots=shots)\n",
    "counts = job.result().get_counts(qa)"
   ]
  },
  {
   "cell_type": "code",
   "execution_count": 9,
   "id": "7123f5d6",
   "metadata": {},
   "outputs": [
    {
     "name": "stdout",
     "output_type": "stream",
     "text": [
      "The number of 1-holes is 0.515625\n"
     ]
    },
    {
     "data": {
      "image/png": "[encoded data removed]",
      "text/plain": [
       "<Figure size 504x360 with 1 Axes>"
      ]
     },
     "execution_count": 9,
     "metadata": {},
     "output_type": "execute_result"
    }
   ],
   "source": [
    "dim = len(state_dict[1]) # dimension of 1-simplex space\n",
    "prob = counts.get(\"0\"*num_eval_qubits)/shots # probability of eigenvalue 0\n",
    "\n",
    "print('The number of 1-holes is', dim * prob)\n",
    "plot_histogram(counts)"
   ]
  },
  {
   "cell_type": "markdown",
   "id": "c47dfce8",
   "metadata": {},
   "source": [
    "As the algorithmon failed to converge with real quantum hardware, a more hardware efficient ansatz needs to be developed. No optimization of the circuit was conducted due to time reasons, but we see a large potential in circuit optimization."
   ]
  },
  {
   "cell_type": "code",
   "execution_count": 10,
   "id": "5ba99e65",
   "metadata": {},
   "outputs": [
    {
     "data": {
      "text/plain": [
       "{'qiskit-terra': '0.17.4', 'qiskit-aer': '0.8.2', 'qiskit-ignis': '0.6.0', 'qiskit-ibmq-provider': '0.13.1', 'qiskit-aqua': '0.9.1', 'qiskit': '0.26.2', 'qiskit-nature': None, 'qiskit-finance': None, 'qiskit-optimization': None, 'qiskit-machine-learning': None}"
      ]
     },
     "execution_count": 10,
     "metadata": {},
     "output_type": "execute_result"
    }
   ],
   "source": [
    "import qiskit\n",
    "qiskit.__qiskit_version__"
   ]
  },
  {
   "cell_type": "code",
   "execution_count": null,
   "id": "9ae0460d",
   "metadata": {},
   "outputs": [],
   "source": []
  }
 ],
 "metadata": {
  "kernelspec": {
   "display_name": "Python 3",
   "language": "python",
   "name": "python3"
  },
  "language_info": {
   "codemirror_mode": {
    "name": "ipython",
    "version": 3
   },
   "file_extension": ".py",
   "mimetype": "text/x-python",
   "name": "python",
   "nbconvert_exporter": "python",
   "pygments_lexer": "ipython3",
   "version": "3.7.6"
  }
 },
 "nbformat": 4,
 "nbformat_minor": 5
}
