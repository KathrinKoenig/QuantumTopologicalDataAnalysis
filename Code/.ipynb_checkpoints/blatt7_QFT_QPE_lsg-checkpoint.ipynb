{
 "cells": [
  {
   "cell_type": "markdown",
   "metadata": {},
   "source": [
    "# Quantum Fourier Tramsformation und Quantum Phase Estimation"
   ]
  },
  {
   "cell_type": "code",
   "execution_count": 2,
   "metadata": {},
   "outputs": [],
   "source": [
    "import numpy as np\n",
    "from numpy import pi\n",
    "pi = np.pi\n",
    "from qiskit.circuit.library import QFT\n",
    "from qiskit import QuantumCircuit, Aer, execute,QuantumRegister, ClassicalRegister\n",
    "from qiskit.visualization import plot_histogram,plot_bloch_multivector\n",
    "from qiskit.tools.monitor import job_monitor\n",
    "import matplotlib.pyplot as plotter\n",
    "import seaborn as sns, operator\n",
    "sns.set_style(\"dark\")"
   ]
  },
  {
   "cell_type": "markdown",
   "metadata": {},
   "source": [
    "## Quantum Fourier Transform"
   ]
  },
  {
   "cell_type": "markdown",
   "metadata": {},
   "source": [
    "Sie haben in der Vorlesung gelernt, dass die Quanten Fourier Transformation auf den Zustand $\\sum_{i=0}^{N-1} x_i |i\\rangle$ wirkt und auf den Zustand $\\sum_{i=0}^{N-1} y_i |i\\rangle $ abgebildet wird. Dabei ist $ y_k=\\frac{1}{\\sqrt{N}}\\sum_{i=0}^{N-1} x_j \\omega_N^{jk} $ mit $ \\omega_N^{jk}=e^{2\\pi i\\frac{jk}{N}} $. Die entsprechende unitäre Matrix kann also durch $ U_{QFT}=\\frac{1}{\\sqrt{N}}\\sum_{x=0}^{N-1}\\sum_{y=0}^{N-1}\\omega_N^{xy} |y\\rangle \\langle x| $ beschrieben werden.\n",
    "\n",
    "### Übung 1\n",
    "Berechnen Sie für ein einzelnes Qubit $|\\psi\\rangle=\\alpha|0\\rangle+\\beta|1\\rangle$ die QFT, sowie die unitäre Matrix. Welchem Gate entspricht die QFT für ein Qubit?"
   ]
  },
  {
   "cell_type": "markdown",
   "metadata": {},
   "source": [
    "$ y_0=\\frac{1}{\\sqrt{2}}\\sum_{j=0}^1x_je^{2\\pi i \\frac{jk}{2}} $\n",
    "$ =\\frac{1}{\\sqrt{2}}(\\alpha e^{2\\pi i \\frac{0\\cdot 0}{2}}+\\beta e^{2\\pi i \\frac{0\\cdot 1}{2}})$\n",
    "$ =\\frac{1}{\\sqrt{2}}(\\alpha+\\beta) $\n",
    "\n",
    "$ y_1=\\frac{1}{\\sqrt{2}}\\sum_{j=0}^1x_je^{2\\pi i \\frac{jk}{2}} $\n",
    "$ =\\frac{1}{\\sqrt{2}}(\\alpha e^{2\\pi i \\frac{0\\cdot 1}{2}}+\\beta e^{2\\pi i \\frac{1\\cdot 1}{2}})$\n",
    "$ =\\frac{1}{\\sqrt{2}}(\\alpha+\\beta e^{\\pi i}) $\n",
    "$ =\\frac{1}{\\sqrt{2}}(\\alpha-\\beta) $\n",
    "\n",
    "$ U_{QFT}|\\psi\\rangle=\\frac{1}{\\sqrt{2}}(\\alpha+\\beta)|0\\rangle+\\frac{1}{\\sqrt{2}}(\\alpha-\\beta)|1\\rangle $\n",
    "$ = \\frac{1}{\\sqrt{2}}[\\alpha|0\\rangle+\\beta|0\\rangle+\\alpha|1\\rangle-\\beta|1\\rangle]$\n",
    "$ = \\frac{1}{\\sqrt{2}} \\begin{pmatrix}1 & 1 \\\\1 & -1 \\end{pmatrix} \\begin{pmatrix} \\alpha \\\\ \\beta\\end{pmatrix}$\n",
    "\n",
    "Dies entspricht dem Hadamard Gatter."
   ]
  },
  {
   "cell_type": "markdown",
   "metadata": {},
   "source": [
    "### Übung 2\n",
    "In dieser Übung sollen Sie ihre eigene Quanten-Fourier-Transformation erstellen. Zuerst betrachten wir den Fall für 3 Qubits. Programmieren Sie nach der in der Vorlesung (S. 71) gegebenen Anleitung den entsprechenden Quantenschaltkreis. Denken Sie daran, dass in Qiskit die Reihenfolge der Qubits umgekehrt ist (d.h. das Qubit $1$ aus der Vorlesung entspricht in Qiskit dem Qubit $n-1$, und Qubit $n$ aus der Vorlesung dem Qubit $0$ in Qiskit. Mit anderen Worten: der in der Vorlesung gezeigte Schaltkreis muss vertikal gespiegelt werden.) Für das kontrollierte Phasengatter können Sie in Qiskit das Gatter cp verwenden (bzw. cu1, welches genauso funktioniert). Für den Winkel, um den beim Gatter $CR_k$ rotiert werden muss, gilt hierbei: $\\theta=\\frac{2\\pi}{2^k}=\\frac{\\pi}{2^{k-1}}$.\n",
    "Zum Schluss muss noch die Reihenfolge der Qubits durch ein SWAP-Gatter vertauscht werden."
   ]
  },
  {
   "cell_type": "code",
   "execution_count": 5,
   "metadata": {},
   "outputs": [
    {
     "data": {
      "image/png": "[encoded data removed]",
      "text/plain": [
       "<Figure size 507.997x204.68 with 1 Axes>"
      ]
     },
     "execution_count": 5,
     "metadata": {},
     "output_type": "execute_result"
    }
   ],
   "source": [
    "#Schreiben Sie Ihren Code hier und lassen Sie sich am Schluss zur Kontrolle\n",
    "#Ihren Schaltkreis auf dem Bildschirm zeigen:\n",
    "\n",
    "qc = QuantumCircuit(3)\n",
    "qc.h(2)\n",
    "qc.cp(pi/2, 1, 2) # CROT von Qubit 1 zu Qubit 2\n",
    "qc.cp(pi/4, 0, 2) # CROT von Qubit 2 zu Qubit 0\n",
    "qc.h(1)\n",
    "qc.cp(pi/2, 0, 1)\n",
    "qc.h(0)\n",
    "qc.swap(0,2)\n",
    "qc.draw('mpl')"
   ]
  },
  {
   "cell_type": "markdown",
   "metadata": {},
   "source": [
    "### Übung 3\n",
    "Sie haben nun eine QFT für 3 Qubits programmiert. Jetzt soll eine allgemeine QFT-Funktion implementiert werden, die für n Qubits gilt. Dies kann entweder durch eine doppelte \"for\"-Schleife geschehen (erst \"for l in reversed(range(n)):\" zum Durchzählen der Qubits in umgekehrter Reihenfolge, dann \"for k in reversed(range(l)):\", um die kontollierten Rotationen für Qubit $l$ durchzuführen) oder rekursiv (zuerst eine Routine schreiben, die nur für das letzte Qubit das Hadamard-Gatter und alle kontrollierten Rotationen durchführt, und dann dieselbe Funktion mit $n-1$ Qubits nochmal aufrufen). Zum Schluss nicht vergessen, die Reihenfolge der Qubits zu vertauschen!"
   ]
  },
  {
   "cell_type": "code",
   "execution_count": 1,
   "metadata": {},
   "outputs": [],
   "source": [
    "#Rekursive Variante:\n",
    "def qft_rotations(circuit, n):    \n",
    "    if n == 0:\n",
    "        return circuit\n",
    "    n -= 1 #da hier n um 1 reduziert wird, kann die Funtkion so lange \n",
    "    #aufgerufen werden bis n==0\n",
    "    circuit.h(n)\n",
    "    for qubit in reversed(range(n)):\n",
    "        circuit.cp(pi/2**(n-qubit), qubit, n)    \n",
    "    qft_rotations(circuit, n) # hier ist n = n-1\n",
    "def swap_registers(circuit, n):\n",
    "    for qubit in range(n//2):\n",
    "        circuit.swap(qubit, n-qubit-1)\n",
    "    return circuit\n",
    "def qft(circuit, n):\n",
    "    qft_rotations(circuit, n)\n",
    "    swap_registers(circuit, n)\n",
    "    return circuit"
   ]
  },
  {
   "cell_type": "code",
   "execution_count": 7,
   "metadata": {},
   "outputs": [],
   "source": [
    "#Variante: Doppelte for-Schleife:\n",
    "def qft2(circuit, n):\n",
    "    for l in reversed(range(n)):\n",
    "        circuit.h(l)        \n",
    "        for k in reversed(range(l)):\n",
    "            circuit.cp(pi/2**(l-k), k, l)\n",
    "    for qubit in range(n//2):\n",
    "        circuit.swap(qubit, n-qubit-1)\n",
    "    return circuit"
   ]
  },
  {
   "cell_type": "code",
   "execution_count": 10,
   "metadata": {},
   "outputs": [
    {
     "data": {
      "image/png": "[encoded data removed]",
      "text/plain": [
       "<Figure size 748.797x264.88 with 1 Axes>"
      ]
     },
     "execution_count": 10,
     "metadata": {},
     "output_type": "execute_result"
    }
   ],
   "source": [
    "#Geben Sie als Test den Schaltkreis für 4 Qubits aus\n",
    "qc = QuantumCircuit(4)\n",
    "qft(qc,4)\n",
    "#qft2(qc,4) #falls Sie die beiden Varianten vergleichen möchten einfach # löschen und qft auskommentieren\n",
    "qc.draw('mpl')"
   ]
  },
  {
   "cell_type": "markdown",
   "metadata": {},
   "source": [
    "Später werden wir auch die invertierte QFT benötigen. Die folgende Funktion fügt einem beliebigen Schaltkreis \"circuit\" (der auch mehr als n Qubits enthalten darf) eine inverse QFT der ersten n Qubits hinzu:"
   ]
  },
  {
   "cell_type": "code",
   "execution_count": 11,
   "metadata": {},
   "outputs": [],
   "source": [
    "def inverse_qft(circuit, n):   \n",
    "    # Zuerst wird ein QFT-Schaltkreis mit n Qubits erstellt:\n",
    "    qft_circ = qft(QuantumCircuit(n), n) #qft entspricht hier Ihrer Funktion für die QFT\n",
    "    # dann wird der Schaltkreis invertiert\n",
    "    invqft_circ = qft_circ.inverse()\n",
    "    # und zum bereits existierenden Schaltkreis circuit (Qubits 0 bis n-1) hinzugefügt:\n",
    "    circuit.append(invqft_circ, circuit.qubits[:n])\n",
    "    return circuit.decompose() # .decompose() wird hier angewendet um einzelne Gates zu sehen"
   ]
  },
  {
   "cell_type": "code",
   "execution_count": 12,
   "metadata": {},
   "outputs": [
    {
     "data": {
      "image/png": "[encoded data removed]",
      "text/plain": [
       "<Figure size 808.997x264.88 with 1 Axes>"
      ]
     },
     "execution_count": 12,
     "metadata": {},
     "output_type": "execute_result"
    }
   ],
   "source": [
    "#Schaltkreis der inversen QFT zur Veranschaulichung:\n",
    "qc = QuantumCircuit(4)\n",
    "inverse_qft(qc,4)\n",
    "qc=qc.decompose()\n",
    "qc.draw('mpl')"
   ]
  },
  {
   "cell_type": "markdown",
   "metadata": {},
   "source": [
    "## Quantum Phase Estimation"
   ]
  },
  {
   "cell_type": "markdown",
   "metadata": {},
   "source": [
    "In der Vorlesung haben Sie die Quantum Phase Estimation kennengelernt. Diese soll nun genutzt werden um den Wert von $\\pi$ zu erhalten. Sie benötigen dazu ebenso die QFT.\n",
    "Orientieren Sie sich am Schaltkreis, der in der Vorlesung vorgestellt wurde."
   ]
  },
  {
   "cell_type": "markdown",
   "metadata": {},
   "source": [
    "Für einen Operator $U$ und einen Zustand $|\\psi\\rangle$, welcher ein Eigenvektor von $U$ zum Eigenwert $e^{2\\pi i\\theta}$ ist (also $U|\\psi\\rangle=e^{2\\pi i\\theta}|\\psi\\rangle$) soll $\\theta$ abgeschätzt werden (wobei $0\\leq \\theta<1$). Der\n",
    "QPE-Algorithmus mit $t$ Qubits im Register 1 liefert eine Abschätzung für $2^t\\theta$, welche für steigendes $t$ immer genauer wird."
   ]
  },
  {
   "cell_type": "markdown",
   "metadata": {},
   "source": [
    "In diesem Beispiel wird $U=u_1(1),|\\psi\\rangle=|1\\rangle$ gewählt, wobei $u_1(1)=\\begin{pmatrix}\n",
    "1 & 0\\\\ 0 & e^{i}\\end{pmatrix}$. Der Eigenwert zum Vektor $|1\\rangle$ lautet also $e^i=e^{2\\pi i \\theta}$ mit $\\theta=1/(2\\pi)$.\n",
    "Wie oben erwähnt, wird am Ende $2^t \\theta$ gemessen, woraus sich $\\pi$ also wie folgt ergibt: $\\pi=\\frac{2^{t-1}}{\\rm gemessener\\ Wert}$."
   ]
  },
  {
   "cell_type": "markdown",
   "metadata": {},
   "source": [
    "Schreiben Sie zunächst eine Funktion für den ersten Teil des QPE-Algorithmus (Vorlesung S. 75): Hadamard-Gatter auf Qubits $0,1,...,t-1$ (Register 1) und Präparation von Qubit $t$ (Register 2) im Zustand $|1\\rangle$. Dann Anwendung kontrollierter Rotationen auf Qubit $t$ (wobei erneut auf die Vertauschung der Qubit-Reihenfolge in Register 1 zu achten ist):"
   ]
  },
  {
   "cell_type": "code",
   "execution_count": 13,
   "metadata": {},
   "outputs": [],
   "source": [
    "#QPE Teil 1, schreiben Sie ihren Code hier:\n",
    "def qpe_pre(circuit, t):\n",
    "    circuit.h(range(t))\n",
    "    circuit.x(t)\n",
    "    for l in range(t):\n",
    "        circuit.cp(2**(l),l,t)\n",
    "        \n",
    "    return circuit"
   ]
  },
  {
   "cell_type": "code",
   "execution_count": 14,
   "metadata": {},
   "outputs": [
    {
     "data": {
      "image/png": "[encoded data removed]",
      "text/plain": [
       "<Figure size 327.397x264.88 with 1 Axes>"
      ]
     },
     "execution_count": 14,
     "metadata": {},
     "output_type": "execute_result"
    }
   ],
   "source": [
    "#Überprüfen Sie diesen Teil für 4 Qubits (also t=3)\n",
    "qc = QuantumCircuit(4) \n",
    "qpe_pre(qc,3)\n",
    "qc.draw('mpl')"
   ]
  },
  {
   "cell_type": "code",
   "execution_count": 15,
   "metadata": {},
   "outputs": [],
   "source": [
    "#Hier erhalten Sie eine kleine Funktion, sodass sie ihre Schaltkreise simulieren können\n",
    "def run_job(circuit, backend, shots=1000, optimization_level=0):\n",
    "    job = execute(circuit, backend=backend, shots=shots, optimization_level=optimization_level)\n",
    "    job_monitor(job)\n",
    "    return job.result().get_counts(circuit)"
   ]
  },
  {
   "cell_type": "code",
   "execution_count": 16,
   "metadata": {},
   "outputs": [],
   "source": [
    "def get_pi_estimate(t):\n",
    "\n",
    "    # Erstellen Sie den Schaltkreis mit t+1 Qubits und t klassischen Bits\n",
    "    circ = QuantumCircuit(t + 1, t)\n",
    "    \n",
    "    # Rufen Sie Ihre Funktion qpe_pre auf\n",
    "    qpe_pre(circ, t)\n",
    "    \n",
    "    # da Qiskit sonst den Schaltkreis vereinfacht, wird eine Barriere eingesetzt\n",
    "    circ.barrier()\n",
    "    \n",
    "    # Wenden Sie hier Ihre inverse QFT an\n",
    "    inverse_qft(circ, t)\n",
    "    \n",
    "    # da Qiskit sonst den Schaltkreis vereinfacht, wird wieder eine Barriere eingesetzt\n",
    "    circ.barrier()\n",
    "    \n",
    "    # Alle Qubits bis auf das letzte werden gemessen\n",
    "    circ.measure(range(t), range(t))\n",
    "\n",
    "    # Simulation des Schaltkreises\n",
    "    counts = run_job(circ, backend=simulator, shots=10000, optimization_level=0)\n",
    "    # print(counts) \n",
    "\n",
    "    # Counts, die am meisten aufgetreten sind\n",
    "    max_counts_result = max(counts, key=counts.get)\n",
    "    #Umwandlung des binären Strings in eine Integer-Zahl\n",
    "    max_counts_result = int(max_counts_result, 2)\n",
    "    \n",
    "    # nach Pi auflösen\n",
    "    theta = max_counts_result/2**t\n",
    "    return (1./(2*theta))"
   ]
  },
  {
   "cell_type": "code",
   "execution_count": 17,
   "metadata": {},
   "outputs": [
    {
     "name": "stdout",
     "output_type": "stream",
     "text": [
      "Job Status: job has successfully run\n",
      "2 qubits, pi ≈ 2.0\n",
      "Job Status: job has successfully run\n",
      "3 qubits, pi ≈ 4.0\n",
      "Job Status: job has successfully run\n",
      "4 qubits, pi ≈ 2.6666666666666665\n",
      "Job Status: job has successfully run\n",
      "5 qubits, pi ≈ 3.2\n",
      "Job Status: job has successfully run\n",
      "6 qubits, pi ≈ 3.2\n",
      "Job Status: job has successfully run\n",
      "7 qubits, pi ≈ 3.2\n",
      "Job Status: job has successfully run\n",
      "8 qubits, pi ≈ 3.1219512195121952\n",
      "Job Status: job has successfully run\n",
      "9 qubits, pi ≈ 3.1604938271604937\n",
      "Job Status: job has successfully run\n",
      "10 qubits, pi ≈ 3.1411042944785277\n",
      "Job Status: job has successfully run\n",
      "11 qubits, pi ≈ 3.1411042944785277\n",
      "Job Status: job has successfully run\n",
      "12 qubits, pi ≈ 3.1411042944785277\n"
     ]
    }
   ],
   "source": [
    "#Simulieren\n",
    "simulator = Aer.get_backend('qasm_simulator')\n",
    "nqs = list(range(2,12+1))\n",
    "pi_estimates = []\n",
    "for nq in nqs:    \n",
    "    thisnq_pi_estimate = get_pi_estimate(nq)    \n",
    "    pi_estimates.append(thisnq_pi_estimate)\n",
    "    \n",
    "    print(f\"{nq} qubits, pi ≈ {thisnq_pi_estimate}\")"
   ]
  },
  {
   "cell_type": "code",
   "execution_count": 19,
   "metadata": {},
   "outputs": [
    {
     "data": {
      "image/png": "[encoded data removed]",
      "text/plain": [
       "<Figure size 432x288 with 1 Axes>"
      ]
     },
     "metadata": {
      "needs_background": "light"
     },
     "output_type": "display_data"
    }
   ],
   "source": [
    "#Graph zur Veranschaulichung der Ergebnisse\n",
    "plotter.plot(nqs, [pi]*len(nqs), '--r')\n",
    "plotter.plot(nqs, pi_estimates, '.-', markersize=12)\n",
    "plotter.xlim([1.5, 12.5])\n",
    "plotter.ylim([1.5, 4.5])\n",
    "plotter.legend(['$\\pi$', 'QPE $\\pi$'])\n",
    "plotter.xlabel('Anzahl der Qubits', fontdict={'size':20})\n",
    "plotter.ylabel('$\\pi$ und geschätztes $\\pi$', fontdict={'size':20})\n",
    "plotter.tick_params(axis='x', labelsize=12)\n",
    "plotter.tick_params(axis='y', labelsize=12)\n",
    "plotter.show()"
   ]
  },
  {
   "cell_type": "code",
   "execution_count": null,
   "metadata": {},
   "outputs": [],
   "source": []
  }
 ],
 "metadata": {
  "kernelspec": {
   "display_name": "Python 3",
   "language": "python",
   "name": "python3"
  },
  "language_info": {
   "codemirror_mode": {
    "name": "ipython",
    "version": 3
   },
   "file_extension": ".py",
   "mimetype": "text/x-python",
   "name": "python",
   "nbconvert_exporter": "python",
   "pygments_lexer": "ipython3",
   "version": "3.7.6"
  }
 },
 "nbformat": 4,
 "nbformat_minor": 4
}
