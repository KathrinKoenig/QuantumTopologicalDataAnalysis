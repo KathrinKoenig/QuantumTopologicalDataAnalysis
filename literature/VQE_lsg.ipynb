{
 "cells": [
  {
   "cell_type": "markdown",
   "metadata": {},
   "source": [
    "<h1 align=\"center\">\n",
    "\tVariational quantum eigensolver\n",
    "</h1>\n",
    "\n",
    "Wie sie in der Vorlesung gelernt haben, ist der Variational quantum eigensolver (VQE) ein hybrider quanten-klassischer Algorithmus, welcher den kleinsten Eigenwert eines gegebenen Hamiltonians findet. Dieser kann genutzt werden, um den Grundzustand eines Moleküls zu finden. \n",
    "\n",
    "Die Idee des VQE-Algorithmus ist es, aus einem gegebenen Hamiltonian mit gegebenem $\\left| \\psi \\right\\rangle$ den Erwartungswert zu messen. Hier ein Beispiel für einen 2-Qubit-Hamiltonian:\n",
    "\n",
    "$$H = a \\cdot II + b \\cdot IZ + c \\cdot ZI + d \\cdot ZZ + e\\cdot XX.$$\n",
    "\n",
    "$$\\left\\langle H \\right\\rangle = \\left\\langle \\psi \\right| H \\left| \\psi \\right\\rangle = a \\cdot \\left\\langle \\psi \\right| II \\left| \\psi \\right\\rangle + b \\cdot \\left\\langle \\psi \\right| IZ \\left| \\psi \\right\\rangle + c \\cdot \\left\\langle \\psi \\right| ZI \\left| \\psi \\right\\rangle+ d \\cdot \\left\\langle \\psi \\right| ZZ \\left| \\psi \\right\\rangle+ e \\cdot \\left\\langle \\psi \\right| XX \\left| \\psi \\right\\rangle.$$\n",
    "\n",
    "Der Algorithmus konstruiert für jeden Pauli-Term einen Quantenschaltkreis und berechnet den Erwartungswert des entsprechenden Terms. Durch Addition der einzelnen Terme erhält man die Erwartungswert von $H$.\n",
    "\n",
    "Der Eigenvektor $\\left| \\psi_g \\right\\rangle$ der den Erwartungswert $\\left\\langle H \\right\\rangle$ minimiert, ist der Eigenvektor von $H$ zum kleinsten Eigenwert. In dem Algorithmus werden die Versuchszustände aus einer parametrisierten Schaltung erzeugt. Durch Ändern der Parameter erhält man verschiedene Ansatzzustände. Wenn die Schaltung mit ihren Parametern gut genug ist, erhält man eine Lösung. \n",
    "\n",
    "Die Optimierung der Parameter wird von einem klassischen Computer gesteuert. Bei jedem Schritt ändert der klassische Computer die Parameter mithilfe einer Optimierungsmethode, um einen Ansatzzustand zu erstellen, der einen kleineren Erwartungswert aufweist als frühere Ansatzzustände. Auf diese Weise arbeiten der klassische Computer und der Quantencomputer zusammen, um das Ziel des Algorithmus zu erreichen (die Grundzustandsenergie zu finden). Daher ist VQE ein quanten-klassischer Hybridalgorithmus."
   ]
  },
  {
   "cell_type": "code",
   "execution_count": null,
   "metadata": {},
   "outputs": [],
   "source": [
    "import numpy as np\n",
    "from random import random\n",
    "from scipy.optimize import minimize\n",
    "\n",
    "from qiskit import *\n",
    "from qiskit.circuit.library.standard_gates import U2Gate\n",
    "from qiskit.aqua.operators import WeightedPauliOperator\n",
    "from qiskit.aqua.algorithms import NumPyEigensolver\n",
    "from qiskit.aqua.components.optimizers import SPSA\n",
    "\n",
    "from qiskit import QuantumCircuit, Aer, execute\n",
    "from qiskit.visualization import plot_histogram"
   ]
  },
  {
   "cell_type": "markdown",
   "metadata": {},
   "source": [
    "Wir verwenden den in der Vorlesung gezeigten \"Ry\" - Ansatz für 2 Qubits, d.h. erst auf beide Qubits jeweils ein Ry - Gatter anwenden, dann CNOT, dann wieder Ry, usw. (insgesamt $k$ Iterationen). Die Anzahl der Parameter beträgt also $2*(k+1)$"
   ]
  },
  {
   "cell_type": "code",
   "execution_count": null,
   "metadata": {},
   "outputs": [],
   "source": [
    "def quantum_state_prep(k, angles):  #angles sollte eine Liste der Länge 2*(k+1)\n",
    "    #sein\n",
    "    circ=QuantumCircuit(2,2)\n",
    "#### Schreiben Sie ihren Code hier #########\n",
    "    circ.ry(angles[0],0)\n",
    "    circ.ry(angles[1],1)\n",
    "    for i in range(k):\n",
    "        circ.cx(0,1)\n",
    "        circ.ry(angles[2*i+2],0)\n",
    "        circ.ry(angles[2*i+3],1)\n",
    "\n",
    "    return circ "
   ]
  },
  {
   "cell_type": "code",
   "execution_count": null,
   "metadata": {},
   "outputs": [],
   "source": [
    "# Testen Sie die Ausgabe hier:\n",
    "qc = quantum_state_prep(1, [np.pi/8, np.pi/6,np.pi/4,np.pi/2])\n",
    "qc.draw()"
   ]
  },
  {
   "cell_type": "markdown",
   "metadata": {},
   "source": [
    "Um den Erwartungswert von $H$ zu bestimmen, benötigen Sie Messungen in den Basen $ZZ$ und $XX$. Die folgenden Funktionen sollen den gegebenen Schaltkreis erst kopieren (mit der Funktion .copy(), damit er nicht überschrieben wird), und dann die nötigen Messungen hinzufügen:"
   ]
  },
  {
   "cell_type": "code",
   "execution_count": null,
   "metadata": {},
   "outputs": [],
   "source": [
    "def measure_zz_circuit(given_circuit):\n",
    "    ### Schreiben Sie ihren Code hier ######\n",
    "    qc=given_circuit.copy()\n",
    "    qc.measure([0,1],[0,1])\n",
    "    \n",
    "    return qc\n",
    "    \n",
    "    ##### Ende #####\n",
    "def measure_xx_circuit(given_circuit):\n",
    "    ### Schreiben Sie ihren Code hier ######\n",
    "    qc=given_circuit.copy()\n",
    "    qc.h([0,1])\n",
    "    qc.measure([0,1],[0,1])\n",
    "    \n",
    "    return qc\n",
    "    ##### Ende #####"
   ]
  },
  {
   "cell_type": "code",
   "execution_count": null,
   "metadata": {},
   "outputs": [],
   "source": [
    "#Testen sie ihren Schaltkreis\n",
    "xx_meas = measure_xx_circuit(qc)\n",
    "xx_meas.draw()"
   ]
  },
  {
   "cell_type": "markdown",
   "metadata": {},
   "source": [
    "Für die folgenden Funktionen sollen Sie die Erwartungswerte auswerten und den Mittelwert von $\\langle ZZ \\rangle$, $\\langle ZI \\rangle$, $\\langle IZ \\rangle$ und $\\langle XX \\rangle$ ermitteln. Dazu müssen Sie in der Funktion die Messung durchführen, die Resultate und 'Counts' extrahieren. \n",
    "Für die unterschiedlichen Anteile müssen Sie sich überlegen, welche 'Counts' gezählt werden sollen."
   ]
  },
  {
   "cell_type": "code",
   "execution_count": null,
   "metadata": {},
   "outputs": [],
   "source": [
    "def measure_zz(given_circuit, backend, shots):\n",
    "    ### Schreiben Sie ihren Code hier ######\n",
    "    qc=measure_zz_circuit(given_circuit)\n",
    "    job = execute(qc,backend=backend,shots=shots)\n",
    "    result=job.result()\n",
    "    counts=result.get_counts(given_circuit)\n",
    "    \n",
    "    iz=0\n",
    "    zi=0\n",
    "    zz=0\n",
    "    for c in counts:\n",
    "        if c=='00':\n",
    "            iz+=counts[c]/shots\n",
    "            zi+=counts[c]/shots\n",
    "            zz+=counts[c]/shots\n",
    "        if c=='01':\n",
    "            iz+=counts[c]/shots\n",
    "            zi-=counts[c]/shots\n",
    "            zz-=counts[c]/shots\n",
    "        if c=='10':\n",
    "            iz-=counts[c]/shots\n",
    "            zi+=counts[c]/shots\n",
    "            zz-=counts[c]/shots\n",
    "        if c=='11':\n",
    "            iz-=counts[c]/shots\n",
    "            zi-=counts[c]/shots\n",
    "            zz+=counts[c]/shots\n",
    "    return iz, zi, zz\n",
    "def measure_xx(given_circuit, backend, shots):\n",
    "    ### Schreiben Sie ihren Code hier ######\n",
    "    qc=measure_xx_circuit(given_circuit)\n",
    "    job = execute(qc,backend=backend,shots=shots)\n",
    "    result=job.result()\n",
    "    counts=result.get_counts(given_circuit)\n",
    "    \n",
    "    xx=0\n",
    "    for c in counts:\n",
    "        if c=='00':\n",
    "            xx+=counts[c]/shots\n",
    "        if c=='01':\n",
    "            xx-=counts[c]/shots\n",
    "        if c=='10':\n",
    "            xx-=counts[c]/shots\n",
    "        if c=='11':\n",
    "            xx+=counts[c]/shots\n",
    "    return xx"
   ]
  },
  {
   "cell_type": "code",
   "execution_count": null,
   "metadata": {},
   "outputs": [],
   "source": [
    "#Sie können hier ihre Funktionen testen\n",
    "backend = Aer.get_backend('qasm_simulator')\n",
    "iz, zi, zz = measure_zz(qc, backend, 1000)\n",
    "print(\"<IZ> =\", str(iz),\" <ZI> =\", str(zi),\" <ZZ> =\", str(zz))"
   ]
  },
  {
   "cell_type": "markdown",
   "metadata": {},
   "source": [
    "Nachdem Sie die einzelnen Erwartungswerte ermittelt haben, benötigen Sie eine Funktion ```get_energy```um die gesamte Energie des Systems zu berechnen. Diese Funktion wird später vom SPSA-Optimierer aufgerufen und sollte daher nur die Liste der Parameter des Schaltkreises als Argument enthalten."
   ]
  },
  {
   "cell_type": "code",
   "execution_count": null,
   "metadata": {},
   "outputs": [],
   "source": [
    "def get_energy(angles):\n",
    "    ### Schreiben Sie ihren Code hier ####\n",
    "    qc = quantum_state_prep(1, angles)\n",
    "    shots=1024\n",
    "    backend = Aer.get_backend('qasm_simulator')\n",
    "    \n",
    "    iz, zi, zz = measure_zz(qc, backend, shots)\n",
    "    xx = measure_xx(qc, backend, shots)\n",
    "    \n",
    "    #### Ende ####\n",
    "    # Hier finden Sie die Pauli Operatoren von H2\n",
    "    \n",
    "    energy = (-1.0523732)*1 + (0.39793742)*iz + (-0.3979374)*zi + (-0.0112801)*zz + (0.18093119)*xx\n",
    "    \n",
    "    return energy"
   ]
  },
  {
   "cell_type": "markdown",
   "metadata": {},
   "source": [
    "Nachfolgend die exakte Berechnung des kleinsten Eigenwerts"
   ]
  },
  {
   "cell_type": "code",
   "execution_count": null,
   "metadata": {},
   "outputs": [],
   "source": [
    "def exact_solver():\n",
    "    def hamiltonian_operator(a, b, c, d, e):\n",
    "        pauli_dict = {\n",
    "            'paulis': [{\"coeff\": {\"imag\": 0.0, \"real\": a}, \"label\": \"II\"},\n",
    "                       {\"coeff\": {\"imag\": 0.0, \"real\": b}, \"label\": \"IZ\"},\n",
    "                       {\"coeff\": {\"imag\": 0.0, \"real\": c}, \"label\": \"ZI\"},\n",
    "                       {\"coeff\": {\"imag\": 0.0, \"real\": d}, \"label\": \"ZZ\"},\n",
    "                       {\"coeff\": {\"imag\": 0.0, \"real\": e}, \"label\": \"XX\"}\n",
    "                       ]\n",
    "        }\n",
    "        return WeightedPauliOperator.from_dict(pauli_dict)\n",
    "    a, b, c, d, e = ((-1.0523732), (0.39793742), (-0.3979374), (-0.0112801),(0.18093119))\n",
    "    H = hamiltonian_operator(a, b, c, d, e)\n",
    "    exact_result = NumPyEigensolver(H).run()\n",
    "    reference_energy = min(np.real(exact_result.eigenvalues))\n",
    "    return reference_energy"
   ]
  },
  {
   "cell_type": "markdown",
   "metadata": {},
   "source": [
    "Nun wählen wir willkürlich irgendwelche Startwerte für die zu optimierenden Parameter und vergleichen das Ergebnis mit der exakten Lösung:"
   ]
  },
  {
   "cell_type": "code",
   "execution_count": null,
   "metadata": {},
   "outputs": [],
   "source": [
    "exact_energy = exact_solver()\n",
    "angles = [np.pi/8, np.pi/6,np.pi/4,np.pi/2] #Startwerte\n",
    "energy = get_energy(angles)\n",
    "print('Die exakte Grundzustandsenergie ist: {}'.format(exact_energy))\n",
    "print('Die abgeschätzte Grundzustandsenergie für die Parameter ',angles,' ist: {}'.format(energy))"
   ]
  },
  {
   "cell_type": "markdown",
   "metadata": {},
   "source": [
    "Wie sie sehen können ist das Ergebnis noch nicht minimal, daher müssen Sie noch eine Funktion schreiben, welche die Winkel in der Funktion ```quantum_state_prep``` so variiert, dass eine minimale Energie abgeschätzt wird. Hierfür können Sie den SPSA-Algorithmus verwenden. Zur Erklärung, wie man diesen einbindet, hier die Minimierung der Funktion\n",
    "$$f(a_0,a_1)=a_0^2+2 a_1^2-2a_0-a_1$$\n",
    "als kleines Beispiel:"
   ]
  },
  {
   "cell_type": "code",
   "execution_count": null,
   "metadata": {},
   "outputs": [],
   "source": [
    "def f(a):\n",
    "    return a[0]**2+2*a[1]**2-2*a[0]-a[1]\n",
    "\n",
    "optimizer=SPSA(maxiter=100) #Größeres maxiter führt normalerweise zu besseren\n",
    "#Ergebnissen, dauert aber länger\n",
    "result=optimizer.optimize(2,f,initial_point=[2,1]) #erstes Argument: Zahl der\n",
    "# Parameter, zweites Argument: Funktion, drittes Argument\n",
    "#initial_point = Startwert\n",
    "print(\"Optimale Parameter:\",result[0])\n",
    "print(\"Minimaler Funktionswert:\",result[1])"
   ]
  },
  {
   "cell_type": "markdown",
   "metadata": {},
   "source": [
    "Führen Sie nun den VQE-Algorithmus inklusive Minimierung durch. Kann man mit einer Iteration ($k=1$) schon das exakte Ergebnis erreichen?"
   ]
  },
  {
   "cell_type": "code",
   "execution_count": null,
   "metadata": {},
   "outputs": [],
   "source": [
    "#### Schreiben Sie ihren Code hier:\n",
    "optimizer=SPSA(maxiter=50)\n",
    "result=optimizer.optimize(4,get_energy,initial_point=[0,0,0,0])\n",
    "print(result)"
   ]
  },
  {
   "cell_type": "markdown",
   "metadata": {},
   "source": [
    "Sie haben nun gesehen, wie der VQE Algorithmus programmiert werden kann und damit die Grundzustandsenergie von $H_2$ berechnet. Um zu sehen, wie man die vorgefertigten Qiskit-Module hierfür benutzen kann, hier noch ein Beispiel für $LiH$ (4 Qubits). Man braucht hierfür das Quantenchemie-Modul pyscf (wenn Sie es nicht installiert haben, können Sie das Programm auf IBM Quantum Experience laufen lassen.) Die folgenden Zellen müssen Sie nur auswerten."
   ]
  },
  {
   "cell_type": "code",
   "execution_count": null,
   "metadata": {},
   "outputs": [],
   "source": [
    "from qiskit.aqua.algorithms import VQE, NumPyEigensolver\n",
    "import matplotlib.pyplot as plt\n",
    "import numpy as np\n",
    "from qiskit.chemistry.components.variational_forms import UCCSD\n",
    "from qiskit.chemistry.components.initial_states import HartreeFock\n",
    "from qiskit.circuit.library import EfficientSU2\n",
    "from qiskit.aqua.components.optimizers import COBYLA, SPSA, SLSQP\n",
    "from qiskit.aqua.operators import Z2Symmetries\n",
    "from qiskit import IBMQ, BasicAer, Aer\n",
    "from qiskit.chemistry.drivers import PySCFDriver, UnitsType\n",
    "from qiskit.chemistry import FermionicOperator\n",
    "from qiskit import IBMQ\n",
    "from qiskit.aqua import QuantumInstance\n",
    "from qiskit.ignis.mitigation.measurement import CompleteMeasFitter\n",
    "from qiskit.providers.aer.noise import NoiseModel"
   ]
  },
  {
   "cell_type": "code",
   "execution_count": null,
   "metadata": {},
   "outputs": [],
   "source": [
    " def get_qubit_op(dist): #Berechnung des Hamiltonians \n",
    "    driver = PySCFDriver(atom=\"Li .0 .0 .0; H .0 .0 \" + str(dist), unit=UnitsType.ANGSTROM, \n",
    "                         charge=0, spin=0, basis='sto3g')\n",
    "    molecule = driver.run()\n",
    "    freeze_list = [0]\n",
    "    remove_list = [-3, -2]\n",
    "    repulsion_energy = molecule.nuclear_repulsion_energy\n",
    "    num_particles = molecule.num_alpha + molecule.num_beta\n",
    "    num_spin_orbitals = molecule.num_orbitals * 2\n",
    "    remove_list = [x % molecule.num_orbitals for x in remove_list]\n",
    "    freeze_list = [x % molecule.num_orbitals for x in freeze_list]\n",
    "    remove_list = [x - len(freeze_list) for x in remove_list]\n",
    "    remove_list += [x + molecule.num_orbitals - len(freeze_list)  for x in remove_list]\n",
    "    freeze_list += [x + molecule.num_orbitals for x in freeze_list]\n",
    "    ferOp = FermionicOperator(h1=molecule.one_body_integrals, h2=molecule.two_body_integrals)\n",
    "    ferOp, energy_shift = ferOp.fermion_mode_freezing(freeze_list)\n",
    "    num_spin_orbitals -= len(freeze_list)\n",
    "    num_particles -= len(freeze_list)\n",
    "    ferOp = ferOp.fermion_mode_elimination(remove_list)\n",
    "    num_spin_orbitals -= len(remove_list)\n",
    "    qubitOp = ferOp.mapping(map_type='parity', threshold=0.00000001)\n",
    "    qubitOp = Z2Symmetries.two_qubit_reduction(qubitOp, num_particles)\n",
    "    shift = energy_shift + repulsion_energy\n",
    "    return qubitOp, num_particles, num_spin_orbitals, shift"
   ]
  },
  {
   "cell_type": "code",
   "execution_count": null,
   "metadata": {},
   "outputs": [],
   "source": [
    "backend = BasicAer.get_backend(\"statevector_simulator\")\n",
    "#Der statevector Simulator führt im Gegensatz zum qasm simulator keine Messungen\n",
    "#durch, sondern berechnet den Quantenzustand vollständig, so dass man Erwartungswerte\n",
    "#ohne statistische Schwankungen wegen endlicher Zahl von Messungen berechnen kann.\n",
    "#Dies geht nur mit dem simulator (nicht auf einem echten backend)\n",
    "distances = np.arange(0.5, 3.0, 0.1)\n",
    "exact_energies = []\n",
    "vqe_energies = []\n",
    "optimizer = SLSQP(maxiter=5) #### kann abgeändert werden, andere Optimizer: COBYLA, L_BFGS, SPSA\n",
    "for dist in distances:\n",
    "    qubitOp, num_particles, num_spin_orbitals, shift = get_qubit_op(dist)\n",
    "    result = NumPyEigensolver(qubitOp).run()\n",
    "    exact_energies.append(np.real(result.eigenvalues) + shift)\n",
    "    initial_state = HartreeFock(\n",
    "        num_spin_orbitals,\n",
    "        num_particles,\n",
    "        qubit_mapping='parity'\n",
    "    ) \n",
    "    var_form = UCCSD( # eine \"coupled-cluster\" variational Form aus der Quantenchemie\n",
    "        num_orbitals=num_spin_orbitals, \n",
    "        num_particles=num_particles,\n",
    "        initial_state=initial_state,\n",
    "        qubit_mapping='parity'\n",
    "    )\n",
    "    vqe = VQE(qubitOp, var_form, optimizer)\n",
    "    vqe_result = np.real(vqe.run(backend)['eigenvalue'] + shift)\n",
    "    vqe_energies.append(vqe_result)\n",
    "    print(\"Interatomic Distance:\", np.round(dist, 2), \"VQE Result:\", vqe_result, \"Exact Energy:\", exact_energies[-1])\n",
    "    \n",
    "print(\"All energies have been calculated\")"
   ]
  },
  {
   "cell_type": "markdown",
   "metadata": {},
   "source": [
    "Das gleiche mit der Ry-Form aus der Vorlesung"
   ]
  },
  {
   "cell_type": "code",
   "execution_count": null,
   "metadata": {},
   "outputs": [],
   "source": [
    "from qiskit.circuit.library import TwoLocal\n",
    "vqe_energies2 = []\n",
    "optimizer2 = SLSQP(maxiter=100) #### kann abgeändert werden, andere Optimizer: COBYLA, L_BFGS, SPSA\n",
    "for dist in distances:\n",
    "    qubitOp, num_particles, num_spin_orbitals, shift = get_qubit_op(dist)\n",
    "    #result = NumPyEigensolver(qubitOp).run()\n",
    "    #exact_energies.append(np.real(result.eigenvalues) + shift)\n",
    "    initial_state = HartreeFock(\n",
    "        num_spin_orbitals,\n",
    "        num_particles,\n",
    "        qubit_mapping='parity'\n",
    "    ) \n",
    "    var_form2=EfficientSU2(qubitOp.num_qubits, su2_gates=['ry'], entanglement='linear', reps=1)\n",
    "    vqe2 = VQE(qubitOp, var_form2, optimizer2)\n",
    "    vqe_result2 = np.real(vqe2.run(backend)['eigenvalue'] + shift)\n",
    "    vqe_energies2.append(vqe_result2)\n",
    "    print(\"Interatomic Distance:\", np.round(dist, 2), \"VQE Result:\", vqe_result2)"
   ]
  },
  {
   "cell_type": "code",
   "execution_count": null,
   "metadata": {},
   "outputs": [],
   "source": [
    "plt.plot(distances, exact_energies, label=\"Exact Energy\")\n",
    "plt.plot(distances, vqe_energies, label=\"VQE UCCSD Energy\")\n",
    "plt.plot(distances, vqe_energies2, label=\"VQE RY Energy\")\n",
    "plt.xlabel('Atomic distance (Angstrom)')\n",
    "plt.ylabel('Energy')\n",
    "plt.legend()\n",
    "plt.show()"
   ]
  },
  {
   "cell_type": "markdown",
   "metadata": {},
   "source": [
    "Beim Vergleich ist zu beachten, dass die Ry-Form wesentlich kürzer ist:"
   ]
  },
  {
   "cell_type": "code",
   "execution_count": null,
   "metadata": {},
   "outputs": [],
   "source": [
    "print(var_form2)"
   ]
  },
  {
   "cell_type": "markdown",
   "metadata": {},
   "source": [
    "Im Gegensatz zu UCCSD:"
   ]
  },
  {
   "cell_type": "code",
   "execution_count": null,
   "metadata": {},
   "outputs": [],
   "source": [
    "qc=var_form.construct_circuit([1,2,3,4,5,6,7,8])\n",
    "qc.decompose().draw('mpl')"
   ]
  },
  {
   "cell_type": "markdown",
   "metadata": {},
   "source": []
  },
  {
   "cell_type": "code",
   "execution_count": null,
   "metadata": {},
   "outputs": [],
   "source": []
  },
  {
   "cell_type": "code",
   "execution_count": null,
   "metadata": {},
   "outputs": [],
   "source": []
  }
 ],
 "metadata": {
  "kernelspec": {
   "display_name": "Python 3",
   "language": "python",
   "name": "python3"
  },
  "language_info": {
   "codemirror_mode": {
    "name": "ipython",
    "version": 3
   },
   "file_extension": ".py",
   "mimetype": "text/x-python",
   "name": "python",
   "nbconvert_exporter": "python",
   "pygments_lexer": "ipython3",
   "version": "3.7.7"
  }
 },
 "nbformat": 4,
 "nbformat_minor": 2
}
