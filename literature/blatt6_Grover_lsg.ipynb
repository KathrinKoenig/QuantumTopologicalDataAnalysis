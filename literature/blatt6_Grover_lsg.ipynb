{
 "cells": [
  {
   "cell_type": "markdown",
   "metadata": {},
   "source": [
    "### Qiskit Implementierung: Grovers Algorithmus mit zwei Qubits\n",
    "In diesem Beispiel werden zwei Qubits genutzt, um den Zustand $|11\\rangle$ zu finden.\n",
    "\n",
    "Zuerst muss dazu die Umgebung initialisiert werden."
   ]
  },
  {
   "cell_type": "code",
   "execution_count": 1,
   "metadata": {},
   "outputs": [],
   "source": [
    "#Initialisierung zum Plotten und Numpy\n",
    "import matplotlib.pyplot as plt\n",
    "%matplotlib inline\n",
    "import numpy as np\n",
    "\n",
    "# Importieren der relevanten Qiskit Module\n",
    "from qiskit import IBMQ, BasicAer\n",
    "from qiskit.providers.ibmq import least_busy\n",
    "from qiskit import QuantumCircuit, ClassicalRegister, QuantumRegister, execute\n",
    "\n",
    "# Importieren von Visualierungen\n",
    "from qiskit.tools.visualization import plot_histogram"
   ]
  },
  {
   "cell_type": "markdown",
   "metadata": {},
   "source": [
    "Als erstes sollen Sie ein Orakel definieren, dass den Zustand $|11\\rangle$ markiert. Dazu sollen sie eine Funktion Orakel definieren, welche als Argumente den Schaltkreis und das Quantenregister hat. In dem Orakel müssen sie ein Gatter anwenden, dass die Phase des Zustandes nur dann ändert, wenn der Zustand $|11\\rangle$ ist.\n",
    "Erstellen sie dann ein `QuantumRegister` mit zwei Qubits, den Orakelschaltkreis, der auf das Quantenregister angewendet wird und führen sie ihre Funktion aus. Lassen Sie sich den Schaltkreis anzeigen. "
   ]
  },
  {
   "cell_type": "markdown",
   "metadata": {},
   "source": [
    "Lösung: wir brauchen ein kontrolliertes $Z$-Gatter: $$CZ=\\left(\\begin{array}{cccc} 1 & 0 & 0 & 0 \\\\ 0 & 1 & 0 & 0 \\\\ 0 & 0 & 1 & 0 \\\\ 0 & 0 & 0 & -1\\end{array}\\right)$$\n",
    "Dies kann in Qiskit direkt (mit 'cz') verwendet werden, oder aus dem CNOT- (d.h. $CX$-) Gatter konstruiert werden, indem man dieses mittels $HXH=Z$ in ein $CZ$-Gatter verwandelt."
   ]
  },
  {
   "cell_type": "code",
   "execution_count": 2,
   "metadata": {},
   "outputs": [
    {
     "data": {
      "image/png": "[encoded data removed]",
      "text/plain": [
       "<Figure size 280.033x144.48 with 1 Axes>"
      ]
     },
     "execution_count": 2,
     "metadata": {},
     "output_type": "execute_result"
    }
   ],
   "source": [
    "def Orakel(circuit, register):\n",
    "    # Schreiben Sie hier ihren Code. Mit \"register[0]\" bzw. \"register[1]\"\n",
    "    # können Sie die beiden Qubits ansprechen, z.B.\n",
    "    # circuit.h(register[1])\n",
    "    # wäre ein Hadamard-Gatter für das zweite Qubit. Mit\n",
    "    # circuit.h(register)\n",
    "    # würde hingegen ein Hadamard-Gatter auf beide Qubits im Register angewandt.\n",
    "    \n",
    "    circuit.h(register[1])\n",
    "    circuit.cx(register[0],register[1])\n",
    "    circuit.h(register[1])\n",
    "    \n",
    "    #Orakel Ende\n",
    "\n",
    "# Hauptprogramm, welches Register und Schaltkreis definiert,\n",
    "# dann die obige Orakelfunktion auruft und den Schaltkreis plottet:  \n",
    "qr = QuantumRegister(2)\n",
    "oracleCircuit = QuantumCircuit(qr)\n",
    "Orakel(oracleCircuit, qr)\n",
    "oracleCircuit.draw(output=\"mpl\")"
   ]
  },
  {
   "cell_type": "markdown",
   "metadata": {},
   "source": [
    "Als nächstes erstellen sie den Diffusionsoperator. Erstellen Sie auch für diesen Operator eine Funktion. Nehmen sie als Name Diffusion und als Argumente wieder Schaltkreis und Register.\n",
    "Denken Sie dabei an die in der Vorlesung auf S. 62 gezeigte Gleichung $D=H^{\\otimes n}(2|0\\rangle\\langle0|-{\\mathbb I})H^{\\otimes n}$."
   ]
  },
  {
   "cell_type": "markdown",
   "metadata": {},
   "source": [
    "Lösung: $$2|0\\rangle\\langle0|-{\\mathbb I}=\\left(\\begin{array}{cccc} 1 & 0 & 0 & 0 \\\\ 0 & -1 & 0 & 0 \\\\ 0 & 0 & -1 & 0 \\\\ 0 & 0 & 0 & -1\\end{array}\\right)$$\n",
    "Bis auf eine (irrelevante) globale Phase ist dies äquivalent zu:\n",
    "$$\\left(\\begin{array}{cccc} -1 & 0 & 0 & 0 \\\\ 0 & 1 & 0 & 0 \\\\ 0 & 0 & 1 & 0 \\\\ 0 & 0 & 0 & 1\\end{array}\\right)$$\n",
    "also dasselbe wie oben beim Orakel, nur mit Zustand $|00\\rangle$ statt $|11\\rangle$. Wir fügen daher am Anfang und am Ende bei beiden Qubits $X$-Gatter hinzu (welche $|11\\rangle$ auf $|00\\rangle$ abbilden und umgekehrt). Eingerahmt wird dies jeweils von zwei $H$-Gattern."
   ]
  },
  {
   "cell_type": "code",
   "execution_count": 3,
   "metadata": {},
   "outputs": [],
   "source": [
    "#Schreiben sie die Definition des Diffusionsoperator hier:\n",
    "def Diffusion(circuit, register):\n",
    "    circuit.h(register) #wirkt auf alle Qubits in register\n",
    "    circuit.x(register)\n",
    "    circuit.h(register[1])\n",
    "    circuit.cx(register[0],register[1])\n",
    "    circuit.h(register[1])\n",
    "    circuit.x(register)\n",
    "    circuit.h(register)\n",
    "    "
   ]
  },
  {
   "cell_type": "markdown",
   "metadata": {},
   "source": [
    "Erstellen Sie nun wieder einen `QuantumCircuit` , wenden Sie ihre Funktion auf ihn an und lassen den Schaltkreis plotten."
   ]
  },
  {
   "cell_type": "code",
   "execution_count": 4,
   "metadata": {},
   "outputs": [
    {
     "data": {
      "image/png": "[encoded data removed]",
      "text/plain": [
       "<Figure size 520.833x144.48 with 1 Axes>"
      ]
     },
     "execution_count": 4,
     "metadata": {},
     "output_type": "execute_result"
    }
   ],
   "source": [
    "qd = QuantumCircuit(qr)\n",
    "Diffusion(qd, qr)\n",
    "qd.draw(output='mpl')"
   ]
  },
  {
   "cell_type": "markdown",
   "metadata": {},
   "source": [
    "Sie haben jetzt alle Teilstücke des Grover-Algorithmus fertiggestellt. Setzen Sie nun die Einzelteile zusammen. Erstellen sie zuerst ein `QuantumRegister` mit zwei Qubits und ein `ClassicalRegister` mit zwei bits. Konstruieren Sie daraus den `GroverCircuit` und setzen Sie alle Qubits in Superposition.\n",
    "Anschließen wenden Sie das Orakel und den Diffusor an. Vergessen Sie die Messung nicht! Lassen Sie sich den Schaltkreis zur Kontrolle wieder ausdrucken."
   ]
  },
  {
   "cell_type": "code",
   "execution_count": 5,
   "metadata": {},
   "outputs": [
    {
     "data": {
      "image/png": "[encoded data removed]",
      "text/plain": [
       "<Figure size 882.178x204.68 with 1 Axes>"
      ]
     },
     "execution_count": 5,
     "metadata": {},
     "output_type": "execute_result"
    }
   ],
   "source": [
    "#Schreiben Sie ihren Code hier\n",
    "\n",
    "qr = QuantumRegister(2)\n",
    "cr = ClassicalRegister(2)\n",
    "GroverCircuit = QuantumCircuit(qr,cr)\n",
    "GroverCircuit.h(qr)\n",
    "Orakel(GroverCircuit, qr)\n",
    "Diffusion(GroverCircuit,qr)\n",
    "GroverCircuit.measure(qr,cr)\n",
    "\n",
    "GroverCircuit.draw(\"mpl\")"
   ]
  },
  {
   "cell_type": "markdown",
   "metadata": {},
   "source": [
    "### Messung mit dem Simulator\n",
    "Nachfolgend soll mit Hilfe des Simulators gemessen werden, ob der richtige Zustand markiert wird."
   ]
  },
  {
   "cell_type": "code",
   "execution_count": 6,
   "metadata": {},
   "outputs": [
    {
     "data": {
      "image/png": "[encoded data removed]",
      "text/plain": [
       "<Figure size 504x360 with 1 Axes>"
      ]
     },
     "execution_count": 6,
     "metadata": {},
     "output_type": "execute_result"
    }
   ],
   "source": [
    "backend = BasicAer.get_backend('qasm_simulator')\n",
    "shots = 1024\n",
    "results = execute(GroverCircuit, backend=backend, shots=shots).result()\n",
    "answer = results.get_counts()\n",
    "plot_histogram(answer)"
   ]
  },
  {
   "cell_type": "markdown",
   "metadata": {},
   "source": [
    "Es sollte zu sehen sein, dass nur der Zustand $|11\\rangle$ markiert wurde. (Bei nur zwei Qubits muss der Grover-Operator nicht iteriert werden...)"
   ]
  },
  {
   "cell_type": "markdown",
   "metadata": {},
   "source": [
    "### Messung an einem realen Quantencopmuter\n",
    "Um zu sehen, wie eine Messung an einem realen Qunatencomputer aussieht, soll nun auch an so einem gemessen werden. Dazu benötigen Sie einen IBMQ Account und müssen ihren Token gespeichert haben. Mehr Informationen, wo sie ihren Token finden: https://quantum-computing.ibm.com/docs/manage/account/"
   ]
  },
  {
   "cell_type": "code",
   "execution_count": 8,
   "metadata": {},
   "outputs": [
    {
     "name": "stderr",
     "output_type": "stream",
     "text": [
      "ibmqfactory.load_account:WARNING:2021-01-13 18:25:55,142: Credentials are already in use. The existing account in the session will be replaced.\n"
     ]
    },
    {
     "name": "stdout",
     "output_type": "stream",
     "text": [
      "Least busy backend:  ibmq_boeblingen\n"
     ]
    }
   ],
   "source": [
    "#IBMQ.save_account('MY_API_TOKEN') #Falls Sie ihren Token noch nicht gespeichert haben, löschen Sie # und fügen Sie\n",
    "                                    # statt MY_API_TOKEN ihren Token ein\n",
    "# Um nicht zu lange auf die Ergebnisse warten zu müssen, wird hier das am wenigsten beschäftigte Backend gesucht\n",
    "IBMQ.load_account()\n",
    "provider = IBMQ.get_provider(hub='ibm-q')\n",
    "#provider = IBMQ.get_provider(hub='ibm-q-fraunhofer', group='fhg-all', project='ticket') \n",
    "backend_lb = least_busy(provider.backends(filters=lambda b: b.configuration().n_qubits >= 3 and\n",
    "                                   not b.configuration().simulator and b.status().operational==True))\n",
    "print(\"Least busy backend: \", backend_lb)"
   ]
  },
  {
   "cell_type": "code",
   "execution_count": 9,
   "metadata": {},
   "outputs": [
    {
     "name": "stdout",
     "output_type": "stream",
     "text": [
      "Job Status: job has successfully run\n"
     ]
    }
   ],
   "source": [
    "# Nun wird der Job auf dem am wenigsten beschäftigten Backend durchgeführt \n",
    "# dies kann, je nach Auslastung einige Minuten dauern\n",
    "from qiskit.tools.monitor import job_monitor\n",
    "\n",
    "backend = backend_lb\n",
    "shots = 1024\n",
    "job_exp = execute(GroverCircuit, backend=backend, shots=shots)\n",
    "\n",
    "job_monitor(job_exp, interval = 2) #mit dem job_monitor wir der aktuelle Status angezeigt"
   ]
  },
  {
   "cell_type": "code",
   "execution_count": 10,
   "metadata": {},
   "outputs": [
    {
     "data": {
      "image/png": "[encoded data removed]",
      "text/plain": [
       "<Figure size 504x360 with 1 Axes>"
      ]
     },
     "execution_count": 10,
     "metadata": {},
     "output_type": "execute_result"
    }
   ],
   "source": [
    "# Hier können Sie das Ergebnis sehen\n",
    "results = job_exp.result()\n",
    "answer = results.get_counts(GroverCircuit)\n",
    "plot_histogram(answer)"
   ]
  },
  {
   "cell_type": "markdown",
   "metadata": {},
   "source": [
    "### Simulator mit Rauschen\n",
    "Alternativ mit einem Simulator, in welchem Fehler so eingebaut sind, dass sie denjenigen, die auf dem realen Quantencomputer auftreten, ähneln.\n",
    "In der Zelle unten wird zunächst das Fehlermodell (noise model) definiert.\n",
    "(Auf Einzelheiten, wie das Fehlermodell genau funktioniert, können wir hier nicht eingehen...)"
   ]
  },
  {
   "cell_type": "code",
   "execution_count": 11,
   "metadata": {},
   "outputs": [],
   "source": [
    "from qiskit.providers.aer.noise import NoiseModel\n",
    "from qiskit.providers.aer.noise.errors import pauli_error, depolarizing_error\n",
    "def get_noise(p_meas,p_gate):\n",
    "\n",
    "    error_meas = pauli_error([('X',p_meas), ('I', 1 - p_meas)])\n",
    "    error_gate1 = depolarizing_error(p_gate, 1)\n",
    "    error_gate2 = error_gate1.tensor(error_gate1)\n",
    "\n",
    "    noise_model = NoiseModel()\n",
    "    noise_model.add_all_qubit_quantum_error(error_meas, \"measure\") # measurement error is applied to measurements\n",
    "    noise_model.add_all_qubit_quantum_error(error_gate1, [\"x\"]) # single qubit gate error is applied to x gates\n",
    "    noise_model.add_all_qubit_quantum_error(error_gate2, [\"cx\"]) # two qubit gate error is applied to cx gates\n",
    "        \n",
    "    return noise_model"
   ]
  },
  {
   "cell_type": "code",
   "execution_count": 12,
   "metadata": {},
   "outputs": [],
   "source": [
    "noise_model = get_noise(0.02,0.05) "
   ]
  },
  {
   "cell_type": "code",
   "execution_count": 13,
   "metadata": {},
   "outputs": [
    {
     "data": {
      "image/png": "[encoded data removed]",
      "text/plain": [
       "<Figure size 504x360 with 1 Axes>"
      ]
     },
     "execution_count": 13,
     "metadata": {},
     "output_type": "execute_result"
    }
   ],
   "source": [
    "from qiskit import Aer\n",
    "# run the circuit with th noise model and extract the counts\n",
    "counts = execute( GroverCircuit, Aer.get_backend('qasm_simulator'),noise_model=noise_model).result().get_counts()\n",
    "plot_histogram(counts)"
   ]
  },
  {
   "cell_type": "markdown",
   "metadata": {},
   "source": [
    "## Anzahl der Iterationen\n",
    "Bisher wurde der Algorithmus nur mit einer Iteration angwendet. Sobald der Algorithmus aber auf eine größere Datenmenge angewendet wird, ist es sinnvoll mehr Iteration zu verwenden, sodass das Ergebnis eindeutig ist. Dies berechnet sich wie folgt (falls $N\\gg M$):\n",
    "$$R\\simeq \\frac{\\pi}{4}\\sqrt{\\frac{N}{M}}$$\n",
    "wobei $R$ der Anzahl der Iterationen, $N$ der Anzahl der zu durchsuchenden Elemente und $M$ der Anzahl der Lösungen entspricht.\n",
    "Berechnen Sie die benötigte Anzahl an Iterationen für $N = 2^4$ Elemente mit einer Lösung ($M=1$) und überprüfen Sie Ihr Ergebnis mit dem nachfolgenden Code, in welchem ein Grover-Schaltkreis für vier Daten-Qubits programmiert ist. Welcher Zustand wird durch das Orakel markiert?"
   ]
  },
  {
   "cell_type": "markdown",
   "metadata": {},
   "source": [
    "Lösung: $R\\simeq \\pi=3.14$, also sollte $R=3$ das beste Ergebnis liefern."
   ]
  },
  {
   "cell_type": "code",
   "execution_count": 20,
   "metadata": {},
   "outputs": [
    {
     "data": {
      "image/png": "[encoded data removed]",
      "text/plain": [
       "<Figure size 504x360 with 1 Axes>"
      ]
     },
     "execution_count": 20,
     "metadata": {},
     "output_type": "execute_result"
    }
   ],
   "source": [
    "backend = BasicAer.get_backend('qasm_simulator')\n",
    "\n",
    "database = QuantumRegister(4)\n",
    "oracle = QuantumRegister(1)\n",
    "auxiliary = QuantumRegister(2)\n",
    "cr = ClassicalRegister(4)\n",
    "qc = QuantumCircuit(database, oracle, auxiliary, cr)\n",
    "qc.h(database[:])\n",
    "qc.x(oracle[0])\n",
    "qc.h(oracle[0])\n",
    "\n",
    "#Geben Sie hier die Anzahl der Iterationen ein (zunächst auf Null gesetzt):\n",
    "R=3\n",
    "\n",
    "for j in range(R):\n",
    "    # oracle_4q\n",
    "    qc.x(database[0])\n",
    "    qc.mct(database[:], oracle[0], auxiliary[:], mode='basic') \n",
    "    qc.x(database[0])\n",
    "\n",
    "    # diffusion_4q\n",
    "    qc.h(database[:])\n",
    "    qc.x(database[:])\n",
    "    qc.h(database[3])\n",
    "    qc.mct(database[0:3], database[3], auxiliary[:], mode='basic')\n",
    "    qc.h(database[3])\n",
    "    qc.x(database[:])\n",
    "    qc.h(database[:])\n",
    "\n",
    "qc.h(oracle[0])\n",
    "qc.x(oracle[0])\n",
    "qc.measure(database,cr)\n",
    "    \n",
    "job = execute(qc, backend=backend, shots=1000)\n",
    "result = job.result()\n",
    "count = result.get_counts()\n",
    "plot_histogram(count)"
   ]
  },
  {
   "cell_type": "markdown",
   "metadata": {},
   "source": [
    "Markierter Zustand: 1110"
   ]
  },
  {
   "cell_type": "code",
   "execution_count": null,
   "metadata": {},
   "outputs": [],
   "source": []
  }
 ],
 "metadata": {
  "kernelspec": {
   "display_name": "Python 3",
   "language": "python",
   "name": "python3"
  },
  "language_info": {
   "codemirror_mode": {
    "name": "ipython",
    "version": 3
   },
   "file_extension": ".py",
   "mimetype": "text/x-python",
   "name": "python",
   "nbconvert_exporter": "python",
   "pygments_lexer": "ipython3",
   "version": "3.7.5"
  }
 },
 "nbformat": 4,
 "nbformat_minor": 4
}
